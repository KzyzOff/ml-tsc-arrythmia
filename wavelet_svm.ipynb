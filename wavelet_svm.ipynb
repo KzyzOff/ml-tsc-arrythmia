{
 "cells": [
  {
   "metadata": {},
   "cell_type": "markdown",
   "source": "Ekstrakcja cech na podstawie DWT i AR",
   "id": "b30273b3000da8b8"
  },
  {
   "metadata": {
    "ExecuteTime": {
     "end_time": "2025-02-03T13:08:02.521866Z",
     "start_time": "2025-02-03T13:08:02.506933Z"
    }
   },
   "cell_type": "code",
   "source": [
    "import os\n",
    "\n",
    "import numpy as np\n",
    "import pandas as pd\n",
    "import pywt\n",
    "from biosppy.signals.ecg import ASI_segmenter, christov_segmenter\n",
    "from statsmodels.tsa.ar_model import AutoReg"
   ],
   "id": "fea94eb8c8edc03",
   "outputs": [],
   "execution_count": 85
  },
  {
   "metadata": {
    "ExecuteTime": {
     "end_time": "2025-02-03T11:34:11.261313Z",
     "start_time": "2025-02-03T11:34:11.240701Z"
    }
   },
   "cell_type": "code",
   "source": [
    "def extract_wavelet_features(ecg_signal, sampling_rate=500, heartbeat_len=500, wavelet='db8', ar_order=4):\n",
    "    peaks = christov_segmenter(ecg_signal, sampling_rate)\n",
    "\n",
    "    features = []\n",
    "    for peak in peaks[0]:\n",
    "        start = max(0, peak - heartbeat_len // 2)\n",
    "        end = start + heartbeat_len\n",
    "\n",
    "        if end > len(ecg_signal):\n",
    "            break\n",
    "\n",
    "        heartbeat = ecg_signal[start: end]\n",
    "        coefficents = pywt.wavedec(heartbeat, wavelet, level=4)\n",
    "        a4 = coefficents[0]\n",
    "        a4 = a4[: min(len(a4), 32)]\n",
    "\n",
    "        try:\n",
    "            ar_model = AutoReg(heartbeat, lags=ar_order, old_names=False).fit()\n",
    "            ar_coeffs = ar_model.params[1:]\n",
    "        except ValueError:\n",
    "            ar_coeffs = np.zeros(ar_order)\n",
    "\n",
    "        if len(ar_coeffs) < ar_order:\n",
    "            ar_coeffs = np.pad(ar_coeffs, (0, ar_order - len(ar_coeffs)), 'constant')\n",
    "\n",
    "        peak_features = np.hstack([a4, ar_coeffs])\n",
    "        features.append(peak_features)\n",
    "\n",
    "    return np.array(features)"
   ],
   "id": "d2d45270963d5910",
   "outputs": [],
   "execution_count": 59
  },
  {
   "metadata": {
    "ExecuteTime": {
     "end_time": "2025-02-03T11:34:56.013657Z",
     "start_time": "2025-02-03T11:34:47.506850Z"
    }
   },
   "cell_type": "code",
   "source": [
    "dataset = np.load('data/database_1_fft.npz')\n",
    "ecg_signals = dataset['ecg']\n",
    "labels = dataset['label']"
   ],
   "id": "e4d18adeffe67784",
   "outputs": [],
   "execution_count": 62
  },
  {
   "metadata": {
    "ExecuteTime": {
     "end_time": "2025-02-03T11:34:14.500745Z",
     "start_time": "2025-02-03T11:34:14.388032Z"
    }
   },
   "cell_type": "code",
   "source": "extract_wavelet_features(ecg_signals[0, :])",
   "id": "a22132c6249fcece",
   "outputs": [
    {
     "data": {
      "text/plain": [
       "array([[ 4.83953338e-01,  4.98667075e-01,  4.29713417e-01,\n",
       "         5.69560924e-01,  4.51532377e-01,  4.60664486e-01,\n",
       "         5.91306177e-01,  4.28795468e-01,  4.76094154e-01,\n",
       "         5.99112539e-01,  2.87817771e-01,  8.28223338e-01,\n",
       "        -8.38049914e-02, -4.55213775e-01,  1.51984030e-02,\n",
       "         3.92935844e-02, -2.37652830e-02,  2.17064163e-02,\n",
       "        -9.08650306e-03, -5.41335803e-03, -1.15457497e-02,\n",
       "         7.58086652e-03, -5.30121278e-03,  5.60673459e-02,\n",
       "        -1.78853542e-01,  2.57374138e-01,  6.92271982e-01,\n",
       "        -5.32205118e-01, -2.74849209e-02,  8.16105655e-05,\n",
       "        -6.51987632e-05,  9.00297635e-03,  2.42746035e+00,\n",
       "        -2.43923115e+00,  1.44236076e+00, -4.58591961e-01],\n",
       "       [ 3.25108878e-01,  3.58252041e-01,  4.68227035e-01,\n",
       "         2.33078919e-01,  4.42542153e-01,  4.04118318e-01,\n",
       "         1.76128149e-01,  4.70554074e-01,  3.93392844e-01,\n",
       "         1.99750739e-01,  6.40640625e-01, -1.91710727e-02,\n",
       "         1.05086087e+00, -3.50588934e-01, -2.09360832e-01,\n",
       "         2.87275673e-02, -1.65485986e-02,  2.34246788e-02,\n",
       "        -4.20873814e-02,  1.71400950e-02,  3.04700244e-02,\n",
       "        -1.86800824e-02,  1.64946625e-02,  2.77985017e-03,\n",
       "         3.91522412e-02, -1.54602371e-01,  3.04886667e-01,\n",
       "         8.94217175e-01, -1.32913142e-01,  4.03793999e-02,\n",
       "        -6.75690330e-03,  3.85426261e-02,  2.42385343e+00,\n",
       "        -2.45003172e+00,  1.46514717e+00, -4.69182037e-01],\n",
       "       [-2.19595473e-01, -2.17081658e-01, -1.67147086e-01,\n",
       "        -2.40934246e-01, -1.90794226e-01, -1.88605989e-01,\n",
       "        -2.54178525e-01, -1.76693675e-01, -2.01611739e-01,\n",
       "        -2.40596073e-01, -1.39072707e-01, -3.00339560e-01,\n",
       "        -7.23775819e-02,  2.41361269e-02,  1.85572188e-02,\n",
       "         8.66901808e-03,  7.36033473e-03, -2.72432533e-02,\n",
       "         8.40888039e-04,  8.90505325e-03,  3.99948111e-02,\n",
       "         9.68963789e-03, -5.88798483e-02,  5.69853840e-02,\n",
       "         1.36085656e-02, -1.27226890e-01,  8.90823884e-02,\n",
       "         8.03227971e-01, -4.83993229e-01, -3.25655929e-02,\n",
       "        -3.40195630e-02,  3.08910983e-02,  2.24477069e+00,\n",
       "        -1.99497696e+00,  1.11091488e+00, -3.93569016e-01],\n",
       "       [ 1.92590489e-01,  2.08842957e-01,  3.65357942e-01,\n",
       "         1.01505458e-01,  3.08017677e-01,  2.81559568e-01,\n",
       "         3.57289038e-02,  3.43157477e-01,  2.61060860e-01,\n",
       "         8.05151969e-02,  5.25965328e-01, -1.90460738e-01,\n",
       "         9.66263885e-01, -1.81188961e-01, -2.53299329e-01,\n",
       "         2.41745739e-02, -1.68835189e-02,  4.85672357e-02,\n",
       "        -2.20097942e-02, -4.68688447e-02,  2.86382011e-02,\n",
       "        -8.95019283e-03,  6.03567745e-02,  1.36024808e-02,\n",
       "        -3.60847739e-02, -3.23554474e-02, -7.04073134e-02,\n",
       "         9.61740944e-01, -3.07694485e-01, -6.59179196e-02,\n",
       "        -3.02438302e-02,  2.63002555e-02,  2.20665214e+00,\n",
       "        -1.91311255e+00,  1.05768293e+00, -3.84252201e-01],\n",
       "       [ 1.71154907e-02,  2.80801621e-02,  5.21572726e-02,\n",
       "         1.71746153e-02,  4.08180092e-02,  4.10726170e-02,\n",
       "         9.53791153e-03,  4.74897991e-02,  3.41801124e-02,\n",
       "         2.30917499e-02,  4.83379515e-02,  3.01195652e-02,\n",
       "         7.14303229e-03, -1.23905836e-03,  7.67213447e-03,\n",
       "        -8.79045300e-03, -5.45817098e-02,  4.68666131e-02,\n",
       "        -1.22417715e-03, -3.25468304e-02,  6.63197477e-02,\n",
       "        -1.27162878e-02,  1.28776199e-04, -2.74316831e-02,\n",
       "         9.58063376e-02, -1.48613016e-01,  1.21249328e-01,\n",
       "         8.18853685e-01, -4.51759935e-01, -6.58183650e-02,\n",
       "         3.50920287e-03, -1.22778133e-02,  2.28480564e+00,\n",
       "        -1.88629294e+00,  7.81752236e-01, -2.03639179e-01],\n",
       "       [-4.51266070e-01, -4.47579589e-01, -3.67929802e-01,\n",
       "        -4.98527693e-01, -4.01649723e-01, -4.03161044e-01,\n",
       "        -5.21629980e-01, -3.78425670e-01, -4.22997775e-01,\n",
       "        -5.03935716e-01, -3.04370921e-01, -6.10083832e-01,\n",
       "        -1.71265222e-01,  8.67740064e-04,  3.27308330e-03,\n",
       "        -2.12460764e-02,  3.88779424e-02,  2.48143261e-02,\n",
       "        -6.55973527e-02,  3.09533023e-03,  1.84523947e-02,\n",
       "         1.39204412e-03, -3.29446462e-02, -1.65445142e-02,\n",
       "         5.43157841e-02, -1.59518386e-01,  1.96032826e-01,\n",
       "         9.41289325e-01, -3.66328929e-01, -3.53087975e-02,\n",
       "         2.64769958e-02, -1.28622081e-02,  2.39256776e+00,\n",
       "        -2.25684083e+00,  1.17683351e+00, -3.39630020e-01],\n",
       "       [ 2.28973795e-02,  1.61664041e-02,  1.63106576e-03,\n",
       "         2.58766332e-02,  6.42590652e-03,  1.07663254e-02,\n",
       "         3.39675742e-02,  3.88922878e-03,  1.28327346e-02,\n",
       "         2.09737949e-02,  3.95926509e-03,  1.88616960e-02,\n",
       "         1.78792154e-02, -9.42670030e-03, -2.69719258e-03,\n",
       "        -2.05805299e-02,  1.68080167e-02,  5.96732451e-02,\n",
       "        -8.05354140e-02, -1.88267432e-03, -5.01118061e-03,\n",
       "        -1.95419606e-03, -7.18697096e-03, -2.00315456e-02,\n",
       "         2.44887775e-02, -5.56204578e-02,  3.51597199e-02,\n",
       "         1.07316279e+00, -3.02664156e-01, -2.19396692e-02,\n",
       "         7.71921805e-02,  4.95630420e-03,  2.56012068e+00,\n",
       "        -2.53983636e+00,  1.27260771e+00, -3.13790032e-01],\n",
       "       [-1.14113423e-01, -1.00165239e-01, -5.86872845e-02,\n",
       "        -1.43821303e-01, -7.09213480e-02, -7.89833812e-02,\n",
       "        -1.59788011e-01, -5.75831097e-02, -8.99850250e-02,\n",
       "        -1.45083857e-01, -2.39747810e-02, -1.80627206e-01,\n",
       "         1.94902418e-02,  7.48626121e-02, -1.22829123e-03,\n",
       "        -3.18709211e-02,  3.02265530e-05,  1.02841263e-02,\n",
       "        -5.76255920e-03,  1.54646813e-02, -2.07076481e-02,\n",
       "         3.97145030e-02,  2.00565868e-02, -9.54533228e-02,\n",
       "         6.73102316e-02, -1.42233341e-01,  7.86896555e-02,\n",
       "         7.21237115e-01, -5.82428571e-01, -9.78889396e-02,\n",
       "         4.06636929e-02, -4.33549125e-02,  2.17759406e+00,\n",
       "        -2.01593792e+00,  1.34165344e+00, -5.43962754e-01],\n",
       "       [-7.63803278e-01, -7.77007892e-01, -7.54389670e-01,\n",
       "        -7.95877398e-01, -7.61066660e-01, -7.68156846e-01,\n",
       "        -8.07563569e-01, -7.56897761e-01, -7.68825147e-01,\n",
       "        -8.06652982e-01, -7.00643418e-01, -9.05350731e-01,\n",
       "        -5.64656424e-01, -8.62351513e-03,  2.88988139e-02,\n",
       "        -4.94730819e-02,  3.55093045e-02, -4.19799913e-02,\n",
       "         4.17428542e-02,  2.94778881e-03,  4.52733056e-03,\n",
       "        -8.38104781e-03,  1.72995747e-02, -2.90927512e-02,\n",
       "         2.00300937e-02, -3.15106161e-02,  1.54385096e-02,\n",
       "         8.19283378e-01, -3.62827261e-01, -5.35588273e-02,\n",
       "         1.35911421e-02,  2.32116782e-02,  2.26390355e+00,\n",
       "        -2.15974188e+00,  1.41689659e+00, -5.53795282e-01],\n",
       "       [ 5.67883123e-01,  6.12477151e-01,  7.47381899e-01,\n",
       "         5.26623380e-01,  6.93673923e-01,  6.79776016e-01,\n",
       "         4.75855888e-01,  7.27641431e-01,  6.52982943e-01,\n",
       "         5.32792630e-01,  8.02573891e-01,  4.61827079e-01,\n",
       "         8.92203083e-01, -3.29841004e-01, -8.42727964e-02,\n",
       "         2.39310222e-02,  1.70449532e-02,  1.54649214e-03,\n",
       "        -3.14422229e-02, -9.15407364e-03,  3.56400037e-02,\n",
       "        -1.57890341e-02,  3.39335450e-02, -1.07774461e-02,\n",
       "         3.67949247e-02, -2.01909995e-01,  2.97988550e-01,\n",
       "         7.69457365e-01, -4.26896617e-01, -6.47586905e-02,\n",
       "        -1.47904572e-02,  1.50050863e-02,  2.38740362e+00,\n",
       "        -2.21681602e+00,  1.14207881e+00, -3.37310906e-01],\n",
       "       [ 3.04370383e-02,  2.04969333e-02, -3.60726416e-03,\n",
       "         3.65617217e-02,  4.58923472e-03,  1.11187451e-02,\n",
       "         4.93695609e-02,  9.09634517e-05,  1.43568304e-02,\n",
       "         3.17836943e-02, -8.07273844e-03,  3.95716088e-02,\n",
       "        -3.34644707e-03,  1.17905422e-02, -2.46604836e-02,\n",
       "        -1.10538842e-03, -1.05648700e-03,  1.72614897e-02,\n",
       "        -2.47037300e-02,  3.41790296e-02,  6.89928973e-03,\n",
       "        -5.49432117e-02, -3.35159073e-02,  1.69438012e-02,\n",
       "         5.47066476e-02, -1.11898962e-01,  1.17503955e-01,\n",
       "         7.53961603e-01, -2.40875601e-01,  2.18513425e-02,\n",
       "        -3.17308790e-02, -2.54504343e-03,  2.13964724e+00,\n",
       "        -1.72851637e+00,  8.79150582e-01, -3.22006965e-01],\n",
       "       [-3.10336460e-01, -3.04966417e-01, -2.47178613e-01,\n",
       "        -3.38810989e-01, -2.71251550e-01, -2.75205499e-01,\n",
       "        -3.58822842e-01, -2.56462417e-01, -2.87959197e-01,\n",
       "        -3.36735476e-01, -2.15652233e-01, -3.97048417e-01,\n",
       "        -1.51095285e-01,  5.04984388e-02, -4.42830355e-02,\n",
       "        -1.17106274e-02,  4.54099425e-03, -3.03129326e-02,\n",
       "         9.63228421e-03,  2.20799699e-02,  3.87469909e-02,\n",
       "        -4.60638351e-02,  5.72439891e-03, -8.61903304e-03,\n",
       "         6.33221562e-02, -1.12627096e-01,  1.27272546e-01,\n",
       "         9.09151276e-01, -3.93332799e-01, -4.35628940e-02,\n",
       "         2.42277327e-03, -1.75461636e-02,  2.25566862e+00,\n",
       "        -2.02377419e+00,  1.13069101e+00, -3.94564700e-01],\n",
       "       [-1.50359731e-01, -1.42621627e-01, -8.94665534e-02,\n",
       "        -1.71159024e-01, -1.13740222e-01, -1.12219136e-01,\n",
       "        -1.85348747e-01, -9.81352111e-02, -1.27233035e-01,\n",
       "        -1.68104081e-01, -6.59416524e-02, -2.16654689e-01,\n",
       "        -1.62639655e-02,  2.42455676e-03, -1.75461636e-02,\n",
       "         2.14841987e-02, -2.69017097e-02, -1.87197779e-02,\n",
       "         2.36088613e-02,  3.51013848e-02, -1.30970860e-02,\n",
       "        -6.64246475e-03, -5.47363470e-02,  5.96534549e-02,\n",
       "         1.06471677e-02, -8.42864224e-02, -9.82244287e-03,\n",
       "         9.51234866e-01, -4.75339804e-01, -7.10179605e-02,\n",
       "         4.62052853e-02, -5.22460600e-02,  2.21813282e+00,\n",
       "        -1.98529677e+00,  1.14948555e+00, -4.16539098e-01],\n",
       "       [ 3.12262772e-02,  3.20445656e-02,  3.16075159e-02,\n",
       "         2.34765480e-02,  3.43015675e-02,  3.16099512e-02,\n",
       "         2.29271012e-02,  3.48175553e-02,  3.20412332e-02,\n",
       "         2.23602157e-02,  2.81331035e-02,  5.69179408e-02,\n",
       "        -2.04991084e-02,  6.03283209e-02, -2.99919468e-01,\n",
       "         1.09424685e+00, -3.54967505e-01, -1.70337754e-01,\n",
       "         6.83524260e-02, -5.57659920e-02,  1.29948196e-02,\n",
       "        -7.85673771e-03, -2.53686074e-02,  4.09052694e-02,\n",
       "         1.37153166e-02, -5.61261606e-02, -7.12526381e-03,\n",
       "         9.10093918e-01, -4.36350345e-01, -1.18244181e-01,\n",
       "        -4.34318689e-02, -1.26177052e-02,  2.25293667e+00,\n",
       "        -2.03279373e+00,  1.14502943e+00, -3.97962769e-01],\n",
       "       [-5.16493715e-01, -5.15252745e-01, -4.71047963e-01,\n",
       "        -5.69533164e-01, -4.82226914e-01, -4.92093622e-01,\n",
       "        -5.85831944e-01, -4.67248097e-01, -5.02430929e-01,\n",
       "        -5.82526285e-01, -4.00566402e-01, -6.70495814e-01,\n",
       "        -2.53695899e-01, -1.74761694e-02, -4.76067066e-02,\n",
       "         6.35204280e-02, -3.36734346e-02,  9.89814608e-03,\n",
       "         1.71360002e-02, -4.12631667e-03, -1.00376597e-02,\n",
       "         1.69599879e-02, -2.46928357e-02,  4.66668036e-02,\n",
       "        -1.76495237e-02, -5.35953096e-02, -1.56296657e-02,\n",
       "         9.43472494e-01, -4.52370260e-01, -1.67469120e-01,\n",
       "         2.01608277e-02, -6.51043358e-03,  2.43815514e+00,\n",
       "        -2.41763146e+00,  1.36602425e+00, -4.13481337e-01],\n",
       "       [-2.63567377e-02, -3.02125385e-02, -3.78957534e-02,\n",
       "        -2.54393069e-02, -3.54582576e-02, -3.24908637e-02,\n",
       "        -2.03345093e-02, -3.64455841e-02, -3.43353316e-02,\n",
       "        -1.11768391e-02, -9.94481380e-02,  1.35725009e-01,\n",
       "        -4.04249061e-01,  9.29465637e-01,  4.35563220e-02,\n",
       "        -3.89104215e-01, -1.11075435e-02,  5.97916543e-04,\n",
       "         4.29416724e-02, -2.70360776e-02, -1.63697229e-02,\n",
       "        -3.79122509e-02,  7.33645343e-02, -5.59403538e-02,\n",
       "         6.84310442e-03, -8.71330939e-02,  3.69735350e-02,\n",
       "         1.21603740e+00, -4.24369786e-01, -9.02753984e-02,\n",
       "        -2.98834297e-03,  3.80710313e-02,  2.43877972e+00,\n",
       "        -2.41748862e+00,  1.36634055e+00, -4.14551599e-01],\n",
       "       [-1.75534494e-01, -1.66058227e-01, -1.01502089e-01,\n",
       "        -1.97208491e-01, -1.32055625e-01, -1.28780038e-01,\n",
       "        -2.13745053e-01, -1.13261124e-01, -1.47370175e-01,\n",
       "        -1.91718625e-01, -7.90715383e-02, -2.44024852e-01,\n",
       "        -3.32706921e-02, -7.42585955e-03,  4.25445925e-02,\n",
       "        -2.38197508e-03, -7.03653054e-02,  3.54665560e-02,\n",
       "         9.66257545e-03,  3.22436512e-02, -3.70388823e-02,\n",
       "        -2.11950025e-02,  1.05019236e-02,  3.49185849e-02,\n",
       "         3.70247760e-02, -1.39915407e-01,  4.27939594e-02,\n",
       "         9.63502504e-01, -4.32344328e-01, -1.37203436e-01,\n",
       "         4.59013698e-02,  3.08194414e-02,  2.25749733e+00,\n",
       "        -1.99288093e+00,  1.09263152e+00, -3.80937074e-01],\n",
       "       [ 9.90534080e-01,  1.04938919e+00,  1.10536972e+00,\n",
       "         1.02407944e+00,  1.08143159e+00,  1.07487209e+00,\n",
       "         9.99400807e-01,  1.09347942e+00,  1.06170824e+00,\n",
       "         1.05661688e+00,  1.03282929e+00,  1.20390076e+00,\n",
       "         7.61954447e-01, -4.76753329e-01, -6.35513882e-02,\n",
       "         4.40291255e-02,  2.21514194e-02, -5.60621161e-02,\n",
       "        -5.45838551e-03,  7.14162595e-03,  1.30758398e-02,\n",
       "         1.94095490e-02, -3.31040094e-02,  3.52502223e-02,\n",
       "        -4.81409577e-02, -4.84698115e-02,  6.13519184e-03,\n",
       "         8.60715291e-01, -2.50383598e-01,  4.92518171e-02,\n",
       "         1.29877492e-02, -1.39748837e-02,  2.46738757e+00,\n",
       "        -2.48111225e+00,  1.40316801e+00, -4.15195652e-01]])"
      ]
     },
     "execution_count": 60,
     "metadata": {},
     "output_type": "execute_result"
    }
   ],
   "execution_count": 60
  },
  {
   "metadata": {
    "ExecuteTime": {
     "end_time": "2025-02-03T12:37:55.703882Z",
     "start_time": "2025-02-03T11:38:30.072195Z"
    }
   },
   "cell_type": "code",
   "source": [
    "from sklearn.model_selection import train_test_split\n",
    "from tqdm.notebook import tqdm\n",
    "\n",
    "ecg_features = [extract_wavelet_features(signal) for signal in tqdm(ecg_signals)]"
   ],
   "id": "380f444f52ae0a06",
   "outputs": [
    {
     "data": {
      "text/plain": [
       "  0%|          | 0/45152 [00:00<?, ?it/s]"
      ],
      "application/vnd.jupyter.widget-view+json": {
       "version_major": 2,
       "version_minor": 0,
       "model_id": "6ab54c4b5c5747539b2fcbdc3a850090"
      }
     },
     "metadata": {},
     "output_type": "display_data"
    }
   ],
   "execution_count": 64
  },
  {
   "metadata": {
    "ExecuteTime": {
     "end_time": "2025-02-03T13:30:44.027175Z",
     "start_time": "2025-02-03T13:30:41.780146Z"
    }
   },
   "cell_type": "code",
   "source": [
    "n_pad_trunc_beats = 25\n",
    "n_features = 36\n",
    "\n",
    "processed = []\n",
    "for sample in ecg_features:\n",
    "    n_beats = sample.shape[0]\n",
    "    if n_beats > n_pad_trunc_beats:\n",
    "        processed.append(np.array(sample[:n_pad_trunc_beats]))\n",
    "    else:\n",
    "        pad_width = ((0, n_pad_trunc_beats - n_beats), (0, 0))\n",
    "        processed.append(np.pad(sample, pad_width, mode='constant', constant_values=0))\n",
    "\n",
    "processed = [np.array(sample) for sample in processed]\n",
    "processed = np.array([sample.flatten() for sample in processed])\n",
    "processed.shape"
   ],
   "id": "e34542a274d7cbb3",
   "outputs": [
    {
     "data": {
      "text/plain": [
       "(45152, 900)"
      ]
     },
     "execution_count": 106,
     "metadata": {},
     "output_type": "execute_result"
    }
   ],
   "execution_count": 106
  },
  {
   "metadata": {
    "ExecuteTime": {
     "end_time": "2025-02-03T13:31:13.608503Z",
     "start_time": "2025-02-03T13:31:13.436656Z"
    }
   },
   "cell_type": "code",
   "source": "X_train, X_test, y_train, y_test = train_test_split(processed, labels, stratify=labels, test_size=0.2)",
   "id": "9c35647920d2b635",
   "outputs": [],
   "execution_count": 107
  },
  {
   "metadata": {
    "ExecuteTime": {
     "end_time": "2025-02-03T13:20:24.428606Z",
     "start_time": "2025-02-03T13:20:18.908093Z"
    }
   },
   "cell_type": "code",
   "source": [
    "processed_filename = 'data/wt_ar_features_36.npz'\n",
    "\n",
    "if os.path.exists(processed_filename):\n",
    "    loaded_dataset = np.load(processed_filename)\n",
    "else:\n",
    "    np.savez_compressed(processed_filename, ecg_features=processed)"
   ],
   "id": "29a8b41ec1887d63",
   "outputs": [],
   "execution_count": 97
  },
  {
   "metadata": {
    "ExecuteTime": {
     "end_time": "2025-02-03T14:00:38.217102Z",
     "start_time": "2025-02-03T14:00:38.203193Z"
    }
   },
   "cell_type": "code",
   "source": [
    "from sklearn.svm import SVC\n",
    "from sklearn.model_selection import StratifiedKFold, GridSearchCV, cross_val_score, train_test_split\n",
    "from sklearn.metrics import classification_report\n",
    "from sklearn.decomposition import PCA\n",
    "from sklearn.pipeline import Pipeline\n",
    "\n",
    "random_state = 420\n",
    "pipeline = Pipeline([\n",
    "    ('pca', PCA(n_components=10, random_state=random_state)),\n",
    "    ('classifier', SVC(C=65536,\n",
    "                       gamma=0.000244,\n",
    "                       class_weight='balanced', kernel='rbf', verbose=1, random_state=random_state)),\n",
    "])\n",
    "\n",
    "cv = StratifiedKFold(n_splits=5, shuffle=True, random_state=random_state)"
   ],
   "id": "3d90cb3bf98d7b4",
   "outputs": [],
   "execution_count": 139
  },
  {
   "metadata": {
    "ExecuteTime": {
     "end_time": "2025-02-03T14:09:36.166235Z",
     "start_time": "2025-02-03T14:00:39.825927Z"
    }
   },
   "cell_type": "code",
   "source": [
    "scores = cross_val_score(pipeline, X_train, y_train, cv=cv, scoring='balanced_accuracy', n_jobs=os.cpu_count() - 4,\n",
    "                         verbose=1)\n",
    "pipeline.fit(X_train, y_train)"
   ],
   "id": "75ee26eaf8d3789a",
   "outputs": [
    {
     "name": "stderr",
     "output_type": "stream",
     "text": [
      "[Parallel(n_jobs=8)]: Using backend LokyBackend with 8 concurrent workers.\n",
      "[Parallel(n_jobs=8)]: Done   2 out of   5 | elapsed:  3.8min remaining:  5.7min\n",
      "[Parallel(n_jobs=8)]: Done   5 out of   5 | elapsed:  4.8min finished\n"
     ]
    },
    {
     "name": "stdout",
     "output_type": "stream",
     "text": [
      "[LibSVM]"
     ]
    },
    {
     "data": {
      "text/plain": [
       "Pipeline(steps=[('pca', PCA(n_components=10, random_state=420)),\n",
       "                ('classifier',\n",
       "                 SVC(C=65536, class_weight='balanced', gamma=0.000244,\n",
       "                     random_state=420, verbose=1))])"
      ],
      "text/html": [
       "<style>#sk-container-id-2 {\n",
       "  /* Definition of color scheme common for light and dark mode */\n",
       "  --sklearn-color-text: black;\n",
       "  --sklearn-color-line: gray;\n",
       "  /* Definition of color scheme for unfitted estimators */\n",
       "  --sklearn-color-unfitted-level-0: #fff5e6;\n",
       "  --sklearn-color-unfitted-level-1: #f6e4d2;\n",
       "  --sklearn-color-unfitted-level-2: #ffe0b3;\n",
       "  --sklearn-color-unfitted-level-3: chocolate;\n",
       "  /* Definition of color scheme for fitted estimators */\n",
       "  --sklearn-color-fitted-level-0: #f0f8ff;\n",
       "  --sklearn-color-fitted-level-1: #d4ebff;\n",
       "  --sklearn-color-fitted-level-2: #b3dbfd;\n",
       "  --sklearn-color-fitted-level-3: cornflowerblue;\n",
       "\n",
       "  /* Specific color for light theme */\n",
       "  --sklearn-color-text-on-default-background: var(--sg-text-color, var(--theme-code-foreground, var(--jp-content-font-color1, black)));\n",
       "  --sklearn-color-background: var(--sg-background-color, var(--theme-background, var(--jp-layout-color0, white)));\n",
       "  --sklearn-color-border-box: var(--sg-text-color, var(--theme-code-foreground, var(--jp-content-font-color1, black)));\n",
       "  --sklearn-color-icon: #696969;\n",
       "\n",
       "  @media (prefers-color-scheme: dark) {\n",
       "    /* Redefinition of color scheme for dark theme */\n",
       "    --sklearn-color-text-on-default-background: var(--sg-text-color, var(--theme-code-foreground, var(--jp-content-font-color1, white)));\n",
       "    --sklearn-color-background: var(--sg-background-color, var(--theme-background, var(--jp-layout-color0, #111)));\n",
       "    --sklearn-color-border-box: var(--sg-text-color, var(--theme-code-foreground, var(--jp-content-font-color1, white)));\n",
       "    --sklearn-color-icon: #878787;\n",
       "  }\n",
       "}\n",
       "\n",
       "#sk-container-id-2 {\n",
       "  color: var(--sklearn-color-text);\n",
       "}\n",
       "\n",
       "#sk-container-id-2 pre {\n",
       "  padding: 0;\n",
       "}\n",
       "\n",
       "#sk-container-id-2 input.sk-hidden--visually {\n",
       "  border: 0;\n",
       "  clip: rect(1px 1px 1px 1px);\n",
       "  clip: rect(1px, 1px, 1px, 1px);\n",
       "  height: 1px;\n",
       "  margin: -1px;\n",
       "  overflow: hidden;\n",
       "  padding: 0;\n",
       "  position: absolute;\n",
       "  width: 1px;\n",
       "}\n",
       "\n",
       "#sk-container-id-2 div.sk-dashed-wrapped {\n",
       "  border: 1px dashed var(--sklearn-color-line);\n",
       "  margin: 0 0.4em 0.5em 0.4em;\n",
       "  box-sizing: border-box;\n",
       "  padding-bottom: 0.4em;\n",
       "  background-color: var(--sklearn-color-background);\n",
       "}\n",
       "\n",
       "#sk-container-id-2 div.sk-container {\n",
       "  /* jupyter's `normalize.less` sets `[hidden] { display: none; }`\n",
       "     but bootstrap.min.css set `[hidden] { display: none !important; }`\n",
       "     so we also need the `!important` here to be able to override the\n",
       "     default hidden behavior on the sphinx rendered scikit-learn.org.\n",
       "     See: https://github.com/scikit-learn/scikit-learn/issues/21755 */\n",
       "  display: inline-block !important;\n",
       "  position: relative;\n",
       "}\n",
       "\n",
       "#sk-container-id-2 div.sk-text-repr-fallback {\n",
       "  display: none;\n",
       "}\n",
       "\n",
       "div.sk-parallel-item,\n",
       "div.sk-serial,\n",
       "div.sk-item {\n",
       "  /* draw centered vertical line to link estimators */\n",
       "  background-image: linear-gradient(var(--sklearn-color-text-on-default-background), var(--sklearn-color-text-on-default-background));\n",
       "  background-size: 2px 100%;\n",
       "  background-repeat: no-repeat;\n",
       "  background-position: center center;\n",
       "}\n",
       "\n",
       "/* Parallel-specific style estimator block */\n",
       "\n",
       "#sk-container-id-2 div.sk-parallel-item::after {\n",
       "  content: \"\";\n",
       "  width: 100%;\n",
       "  border-bottom: 2px solid var(--sklearn-color-text-on-default-background);\n",
       "  flex-grow: 1;\n",
       "}\n",
       "\n",
       "#sk-container-id-2 div.sk-parallel {\n",
       "  display: flex;\n",
       "  align-items: stretch;\n",
       "  justify-content: center;\n",
       "  background-color: var(--sklearn-color-background);\n",
       "  position: relative;\n",
       "}\n",
       "\n",
       "#sk-container-id-2 div.sk-parallel-item {\n",
       "  display: flex;\n",
       "  flex-direction: column;\n",
       "}\n",
       "\n",
       "#sk-container-id-2 div.sk-parallel-item:first-child::after {\n",
       "  align-self: flex-end;\n",
       "  width: 50%;\n",
       "}\n",
       "\n",
       "#sk-container-id-2 div.sk-parallel-item:last-child::after {\n",
       "  align-self: flex-start;\n",
       "  width: 50%;\n",
       "}\n",
       "\n",
       "#sk-container-id-2 div.sk-parallel-item:only-child::after {\n",
       "  width: 0;\n",
       "}\n",
       "\n",
       "/* Serial-specific style estimator block */\n",
       "\n",
       "#sk-container-id-2 div.sk-serial {\n",
       "  display: flex;\n",
       "  flex-direction: column;\n",
       "  align-items: center;\n",
       "  background-color: var(--sklearn-color-background);\n",
       "  padding-right: 1em;\n",
       "  padding-left: 1em;\n",
       "}\n",
       "\n",
       "\n",
       "/* Toggleable style: style used for estimator/Pipeline/ColumnTransformer box that is\n",
       "clickable and can be expanded/collapsed.\n",
       "- Pipeline and ColumnTransformer use this feature and define the default style\n",
       "- Estimators will overwrite some part of the style using the `sk-estimator` class\n",
       "*/\n",
       "\n",
       "/* Pipeline and ColumnTransformer style (default) */\n",
       "\n",
       "#sk-container-id-2 div.sk-toggleable {\n",
       "  /* Default theme specific background. It is overwritten whether we have a\n",
       "  specific estimator or a Pipeline/ColumnTransformer */\n",
       "  background-color: var(--sklearn-color-background);\n",
       "}\n",
       "\n",
       "/* Toggleable label */\n",
       "#sk-container-id-2 label.sk-toggleable__label {\n",
       "  cursor: pointer;\n",
       "  display: block;\n",
       "  width: 100%;\n",
       "  margin-bottom: 0;\n",
       "  padding: 0.5em;\n",
       "  box-sizing: border-box;\n",
       "  text-align: center;\n",
       "}\n",
       "\n",
       "#sk-container-id-2 label.sk-toggleable__label-arrow:before {\n",
       "  /* Arrow on the left of the label */\n",
       "  content: \"▸\";\n",
       "  float: left;\n",
       "  margin-right: 0.25em;\n",
       "  color: var(--sklearn-color-icon);\n",
       "}\n",
       "\n",
       "#sk-container-id-2 label.sk-toggleable__label-arrow:hover:before {\n",
       "  color: var(--sklearn-color-text);\n",
       "}\n",
       "\n",
       "/* Toggleable content - dropdown */\n",
       "\n",
       "#sk-container-id-2 div.sk-toggleable__content {\n",
       "  max-height: 0;\n",
       "  max-width: 0;\n",
       "  overflow: hidden;\n",
       "  text-align: left;\n",
       "  /* unfitted */\n",
       "  background-color: var(--sklearn-color-unfitted-level-0);\n",
       "}\n",
       "\n",
       "#sk-container-id-2 div.sk-toggleable__content.fitted {\n",
       "  /* fitted */\n",
       "  background-color: var(--sklearn-color-fitted-level-0);\n",
       "}\n",
       "\n",
       "#sk-container-id-2 div.sk-toggleable__content pre {\n",
       "  margin: 0.2em;\n",
       "  border-radius: 0.25em;\n",
       "  color: var(--sklearn-color-text);\n",
       "  /* unfitted */\n",
       "  background-color: var(--sklearn-color-unfitted-level-0);\n",
       "}\n",
       "\n",
       "#sk-container-id-2 div.sk-toggleable__content.fitted pre {\n",
       "  /* unfitted */\n",
       "  background-color: var(--sklearn-color-fitted-level-0);\n",
       "}\n",
       "\n",
       "#sk-container-id-2 input.sk-toggleable__control:checked~div.sk-toggleable__content {\n",
       "  /* Expand drop-down */\n",
       "  max-height: 200px;\n",
       "  max-width: 100%;\n",
       "  overflow: auto;\n",
       "}\n",
       "\n",
       "#sk-container-id-2 input.sk-toggleable__control:checked~label.sk-toggleable__label-arrow:before {\n",
       "  content: \"▾\";\n",
       "}\n",
       "\n",
       "/* Pipeline/ColumnTransformer-specific style */\n",
       "\n",
       "#sk-container-id-2 div.sk-label input.sk-toggleable__control:checked~label.sk-toggleable__label {\n",
       "  color: var(--sklearn-color-text);\n",
       "  background-color: var(--sklearn-color-unfitted-level-2);\n",
       "}\n",
       "\n",
       "#sk-container-id-2 div.sk-label.fitted input.sk-toggleable__control:checked~label.sk-toggleable__label {\n",
       "  background-color: var(--sklearn-color-fitted-level-2);\n",
       "}\n",
       "\n",
       "/* Estimator-specific style */\n",
       "\n",
       "/* Colorize estimator box */\n",
       "#sk-container-id-2 div.sk-estimator input.sk-toggleable__control:checked~label.sk-toggleable__label {\n",
       "  /* unfitted */\n",
       "  background-color: var(--sklearn-color-unfitted-level-2);\n",
       "}\n",
       "\n",
       "#sk-container-id-2 div.sk-estimator.fitted input.sk-toggleable__control:checked~label.sk-toggleable__label {\n",
       "  /* fitted */\n",
       "  background-color: var(--sklearn-color-fitted-level-2);\n",
       "}\n",
       "\n",
       "#sk-container-id-2 div.sk-label label.sk-toggleable__label,\n",
       "#sk-container-id-2 div.sk-label label {\n",
       "  /* The background is the default theme color */\n",
       "  color: var(--sklearn-color-text-on-default-background);\n",
       "}\n",
       "\n",
       "/* On hover, darken the color of the background */\n",
       "#sk-container-id-2 div.sk-label:hover label.sk-toggleable__label {\n",
       "  color: var(--sklearn-color-text);\n",
       "  background-color: var(--sklearn-color-unfitted-level-2);\n",
       "}\n",
       "\n",
       "/* Label box, darken color on hover, fitted */\n",
       "#sk-container-id-2 div.sk-label.fitted:hover label.sk-toggleable__label.fitted {\n",
       "  color: var(--sklearn-color-text);\n",
       "  background-color: var(--sklearn-color-fitted-level-2);\n",
       "}\n",
       "\n",
       "/* Estimator label */\n",
       "\n",
       "#sk-container-id-2 div.sk-label label {\n",
       "  font-family: monospace;\n",
       "  font-weight: bold;\n",
       "  display: inline-block;\n",
       "  line-height: 1.2em;\n",
       "}\n",
       "\n",
       "#sk-container-id-2 div.sk-label-container {\n",
       "  text-align: center;\n",
       "}\n",
       "\n",
       "/* Estimator-specific */\n",
       "#sk-container-id-2 div.sk-estimator {\n",
       "  font-family: monospace;\n",
       "  border: 1px dotted var(--sklearn-color-border-box);\n",
       "  border-radius: 0.25em;\n",
       "  box-sizing: border-box;\n",
       "  margin-bottom: 0.5em;\n",
       "  /* unfitted */\n",
       "  background-color: var(--sklearn-color-unfitted-level-0);\n",
       "}\n",
       "\n",
       "#sk-container-id-2 div.sk-estimator.fitted {\n",
       "  /* fitted */\n",
       "  background-color: var(--sklearn-color-fitted-level-0);\n",
       "}\n",
       "\n",
       "/* on hover */\n",
       "#sk-container-id-2 div.sk-estimator:hover {\n",
       "  /* unfitted */\n",
       "  background-color: var(--sklearn-color-unfitted-level-2);\n",
       "}\n",
       "\n",
       "#sk-container-id-2 div.sk-estimator.fitted:hover {\n",
       "  /* fitted */\n",
       "  background-color: var(--sklearn-color-fitted-level-2);\n",
       "}\n",
       "\n",
       "/* Specification for estimator info (e.g. \"i\" and \"?\") */\n",
       "\n",
       "/* Common style for \"i\" and \"?\" */\n",
       "\n",
       ".sk-estimator-doc-link,\n",
       "a:link.sk-estimator-doc-link,\n",
       "a:visited.sk-estimator-doc-link {\n",
       "  float: right;\n",
       "  font-size: smaller;\n",
       "  line-height: 1em;\n",
       "  font-family: monospace;\n",
       "  background-color: var(--sklearn-color-background);\n",
       "  border-radius: 1em;\n",
       "  height: 1em;\n",
       "  width: 1em;\n",
       "  text-decoration: none !important;\n",
       "  margin-left: 1ex;\n",
       "  /* unfitted */\n",
       "  border: var(--sklearn-color-unfitted-level-1) 1pt solid;\n",
       "  color: var(--sklearn-color-unfitted-level-1);\n",
       "}\n",
       "\n",
       ".sk-estimator-doc-link.fitted,\n",
       "a:link.sk-estimator-doc-link.fitted,\n",
       "a:visited.sk-estimator-doc-link.fitted {\n",
       "  /* fitted */\n",
       "  border: var(--sklearn-color-fitted-level-1) 1pt solid;\n",
       "  color: var(--sklearn-color-fitted-level-1);\n",
       "}\n",
       "\n",
       "/* On hover */\n",
       "div.sk-estimator:hover .sk-estimator-doc-link:hover,\n",
       ".sk-estimator-doc-link:hover,\n",
       "div.sk-label-container:hover .sk-estimator-doc-link:hover,\n",
       ".sk-estimator-doc-link:hover {\n",
       "  /* unfitted */\n",
       "  background-color: var(--sklearn-color-unfitted-level-3);\n",
       "  color: var(--sklearn-color-background);\n",
       "  text-decoration: none;\n",
       "}\n",
       "\n",
       "div.sk-estimator.fitted:hover .sk-estimator-doc-link.fitted:hover,\n",
       ".sk-estimator-doc-link.fitted:hover,\n",
       "div.sk-label-container:hover .sk-estimator-doc-link.fitted:hover,\n",
       ".sk-estimator-doc-link.fitted:hover {\n",
       "  /* fitted */\n",
       "  background-color: var(--sklearn-color-fitted-level-3);\n",
       "  color: var(--sklearn-color-background);\n",
       "  text-decoration: none;\n",
       "}\n",
       "\n",
       "/* Span, style for the box shown on hovering the info icon */\n",
       ".sk-estimator-doc-link span {\n",
       "  display: none;\n",
       "  z-index: 9999;\n",
       "  position: relative;\n",
       "  font-weight: normal;\n",
       "  right: .2ex;\n",
       "  padding: .5ex;\n",
       "  margin: .5ex;\n",
       "  width: min-content;\n",
       "  min-width: 20ex;\n",
       "  max-width: 50ex;\n",
       "  color: var(--sklearn-color-text);\n",
       "  box-shadow: 2pt 2pt 4pt #999;\n",
       "  /* unfitted */\n",
       "  background: var(--sklearn-color-unfitted-level-0);\n",
       "  border: .5pt solid var(--sklearn-color-unfitted-level-3);\n",
       "}\n",
       "\n",
       ".sk-estimator-doc-link.fitted span {\n",
       "  /* fitted */\n",
       "  background: var(--sklearn-color-fitted-level-0);\n",
       "  border: var(--sklearn-color-fitted-level-3);\n",
       "}\n",
       "\n",
       ".sk-estimator-doc-link:hover span {\n",
       "  display: block;\n",
       "}\n",
       "\n",
       "/* \"?\"-specific style due to the `<a>` HTML tag */\n",
       "\n",
       "#sk-container-id-2 a.estimator_doc_link {\n",
       "  float: right;\n",
       "  font-size: 1rem;\n",
       "  line-height: 1em;\n",
       "  font-family: monospace;\n",
       "  background-color: var(--sklearn-color-background);\n",
       "  border-radius: 1rem;\n",
       "  height: 1rem;\n",
       "  width: 1rem;\n",
       "  text-decoration: none;\n",
       "  /* unfitted */\n",
       "  color: var(--sklearn-color-unfitted-level-1);\n",
       "  border: var(--sklearn-color-unfitted-level-1) 1pt solid;\n",
       "}\n",
       "\n",
       "#sk-container-id-2 a.estimator_doc_link.fitted {\n",
       "  /* fitted */\n",
       "  border: var(--sklearn-color-fitted-level-1) 1pt solid;\n",
       "  color: var(--sklearn-color-fitted-level-1);\n",
       "}\n",
       "\n",
       "/* On hover */\n",
       "#sk-container-id-2 a.estimator_doc_link:hover {\n",
       "  /* unfitted */\n",
       "  background-color: var(--sklearn-color-unfitted-level-3);\n",
       "  color: var(--sklearn-color-background);\n",
       "  text-decoration: none;\n",
       "}\n",
       "\n",
       "#sk-container-id-2 a.estimator_doc_link.fitted:hover {\n",
       "  /* fitted */\n",
       "  background-color: var(--sklearn-color-fitted-level-3);\n",
       "}\n",
       "</style><div id=\"sk-container-id-2\" class=\"sk-top-container\"><div class=\"sk-text-repr-fallback\"><pre>Pipeline(steps=[(&#x27;pca&#x27;, PCA(n_components=10, random_state=420)),\n",
       "                (&#x27;classifier&#x27;,\n",
       "                 SVC(C=65536, class_weight=&#x27;balanced&#x27;, gamma=0.000244,\n",
       "                     random_state=420, verbose=1))])</pre><b>In a Jupyter environment, please rerun this cell to show the HTML representation or trust the notebook. <br />On GitHub, the HTML representation is unable to render, please try loading this page with nbviewer.org.</b></div><div class=\"sk-container\" hidden><div class=\"sk-item sk-dashed-wrapped\"><div class=\"sk-label-container\"><div class=\"sk-label fitted sk-toggleable\"><input class=\"sk-toggleable__control sk-hidden--visually\" id=\"sk-estimator-id-4\" type=\"checkbox\" ><label for=\"sk-estimator-id-4\" class=\"sk-toggleable__label fitted sk-toggleable__label-arrow fitted\">&nbsp;&nbsp;Pipeline<a class=\"sk-estimator-doc-link fitted\" rel=\"noreferrer\" target=\"_blank\" href=\"https://scikit-learn.org/1.5/modules/generated/sklearn.pipeline.Pipeline.html\">?<span>Documentation for Pipeline</span></a><span class=\"sk-estimator-doc-link fitted\">i<span>Fitted</span></span></label><div class=\"sk-toggleable__content fitted\"><pre>Pipeline(steps=[(&#x27;pca&#x27;, PCA(n_components=10, random_state=420)),\n",
       "                (&#x27;classifier&#x27;,\n",
       "                 SVC(C=65536, class_weight=&#x27;balanced&#x27;, gamma=0.000244,\n",
       "                     random_state=420, verbose=1))])</pre></div> </div></div><div class=\"sk-serial\"><div class=\"sk-item\"><div class=\"sk-estimator fitted sk-toggleable\"><input class=\"sk-toggleable__control sk-hidden--visually\" id=\"sk-estimator-id-5\" type=\"checkbox\" ><label for=\"sk-estimator-id-5\" class=\"sk-toggleable__label fitted sk-toggleable__label-arrow fitted\">&nbsp;PCA<a class=\"sk-estimator-doc-link fitted\" rel=\"noreferrer\" target=\"_blank\" href=\"https://scikit-learn.org/1.5/modules/generated/sklearn.decomposition.PCA.html\">?<span>Documentation for PCA</span></a></label><div class=\"sk-toggleable__content fitted\"><pre>PCA(n_components=10, random_state=420)</pre></div> </div></div><div class=\"sk-item\"><div class=\"sk-estimator fitted sk-toggleable\"><input class=\"sk-toggleable__control sk-hidden--visually\" id=\"sk-estimator-id-6\" type=\"checkbox\" ><label for=\"sk-estimator-id-6\" class=\"sk-toggleable__label fitted sk-toggleable__label-arrow fitted\">&nbsp;SVC<a class=\"sk-estimator-doc-link fitted\" rel=\"noreferrer\" target=\"_blank\" href=\"https://scikit-learn.org/1.5/modules/generated/sklearn.svm.SVC.html\">?<span>Documentation for SVC</span></a></label><div class=\"sk-toggleable__content fitted\"><pre>SVC(C=65536, class_weight=&#x27;balanced&#x27;, gamma=0.000244, random_state=420,\n",
       "    verbose=1)</pre></div> </div></div></div></div></div></div>"
      ]
     },
     "execution_count": 140,
     "metadata": {},
     "output_type": "execute_result"
    }
   ],
   "execution_count": 140
  },
  {
   "metadata": {
    "ExecuteTime": {
     "end_time": "2025-02-03T14:09:42.650687Z",
     "start_time": "2025-02-03T14:09:36.173410Z"
    }
   },
   "cell_type": "code",
   "source": [
    "print(f'Balanced accuracy: {scores.min() : .2f} - {scores.max() : .2f} ({scores.std() : .2f})')\n",
    "y_pred = pipeline.predict(X_test)\n",
    "print(classification_report(y_test, y_pred, target_names=['no arrhythmia', 'arrhythmia']))"
   ],
   "id": "4b50baad9b3a7a31",
   "outputs": [
    {
     "name": "stdout",
     "output_type": "stream",
     "text": [
      "Balanced accuracy:  0.82 -  0.83 ( 0.00)\n",
      "               precision    recall  f1-score   support\n",
      "\n",
      "no arrhythmia       0.35      0.91      0.50      1182\n",
      "   arrhythmia       0.98      0.74      0.85      7849\n",
      "\n",
      "     accuracy                           0.76      9031\n",
      "    macro avg       0.66      0.82      0.67      9031\n",
      " weighted avg       0.90      0.76      0.80      9031\n",
      "\n"
     ]
    }
   ],
   "execution_count": 141
  },
  {
   "metadata": {
    "ExecuteTime": {
     "end_time": "2025-02-03T14:14:22.453312Z",
     "start_time": "2025-02-03T14:14:22.438893Z"
    }
   },
   "cell_type": "code",
   "source": [
    "import joblib\n",
    "\n",
    "joblib.dump(pipeline, 'models/svm_wt_ar.pkl')"
   ],
   "id": "1a7e5a67f868bdfd",
   "outputs": [
    {
     "data": {
      "text/plain": [
       "['models/svm_wt_ar.pkl']"
      ]
     },
     "execution_count": 144,
     "metadata": {},
     "output_type": "execute_result"
    }
   ],
   "execution_count": 144
  },
  {
   "metadata": {},
   "cell_type": "markdown",
   "source": [
    "---\n",
    "\n",
    "PCA covariance matrix\n",
    "====================="
   ],
   "id": "f062fde40afd1f01"
  },
  {
   "metadata": {
    "ExecuteTime": {
     "end_time": "2025-02-03T14:09:42.666605Z",
     "start_time": "2025-02-03T14:09:42.652756Z"
    }
   },
   "cell_type": "code",
   "source": [
    "pca = pipeline.named_steps['pca']\n",
    "explained_var = pca.explained_variance_ratio_\n",
    "explained_var"
   ],
   "id": "48bfdc75cd75a72c",
   "outputs": [
    {
     "data": {
      "text/plain": [
       "array([0.41291905, 0.0946071 , 0.06527999, 0.06135999, 0.03686988,\n",
       "       0.02420748, 0.02139222, 0.01662691, 0.01282269, 0.01098342])"
      ]
     },
     "execution_count": 142,
     "metadata": {},
     "output_type": "execute_result"
    }
   ],
   "execution_count": 142
  },
  {
   "metadata": {
    "ExecuteTime": {
     "end_time": "2025-02-03T14:09:42.820967Z",
     "start_time": "2025-02-03T14:09:42.668783Z"
    }
   },
   "cell_type": "code",
   "source": [
    "import matplotlib.pyplot as plt\n",
    "\n",
    "plt.figure(figsize=(8, 6))\n",
    "plt.bar(range(1, len(explained_var) + 1), explained_var)\n",
    "plt.xlabel('Principal component')\n",
    "plt.ylabel('Explained variance ratio')\n",
    "plt.grid()\n",
    "plt.tight_layout()\n",
    "\n",
    "loadings = pca.components_\n",
    "n_top_features = 5\n",
    "top_features = [loadings[0].argsort()[-n_top_features:][::-1]]\n",
    "\n",
    "print(f'Top {n_top_features} features for PC1: {top_features}')"
   ],
   "id": "172e6934bd1a6623",
   "outputs": [
    {
     "name": "stdout",
     "output_type": "stream",
     "text": [
      "Top 5 features for PC1: [array([465, 429, 501, 393, 537], dtype=int64)]\n"
     ]
    },
    {
     "data": {
      "text/plain": [
       "<Figure size 800x600 with 1 Axes>"
      ],
      "image/png": "[encoded data removed]"
     },
     "metadata": {},
     "output_type": "display_data"
    }
   ],
   "execution_count": 143
  },
  {
   "metadata": {},
   "cell_type": "markdown",
   "source": [
    "---\n",
    "\n",
    "BalancedRandomForest param search\n",
    "================================="
   ],
   "id": "96c152d9e7bb4e3"
  },
  {
   "metadata": {
    "ExecuteTime": {
     "end_time": "2025-02-03T15:44:04.363482Z",
     "start_time": "2025-02-03T15:36:40.348953Z"
    }
   },
   "cell_type": "code",
   "source": [
    "from imblearn.ensemble import BalancedRandomForestClassifier\n",
    "from sklearn.model_selection import RandomizedSearchCV\n",
    "from scipy.stats import randint\n",
    "\n",
    "brf_pipeline = Pipeline([\n",
    "    ('pca', PCA(random_state=random_state)),\n",
    "    ('classifier', BalancedRandomForestClassifier(class_weight='balanced',\n",
    "                                                  verbose=1,\n",
    "                                                  n_jobs=4,\n",
    "                                                  random_state=random_state)),\n",
    "])\n",
    "\n",
    "brf_grid = {\n",
    "    'classifier__n_estimators': randint(5, 50),\n",
    "    'classifier__max_depth': [None, 10, 20, 30],\n",
    "    'classifier__class_weight': ['balanced', 'balanced_subsample']\n",
    "}\n",
    "\n",
    "brf_rand_search = RandomizedSearchCV(\n",
    "    brf_pipeline,\n",
    "    param_distributions=brf_grid,\n",
    "    n_iter=20,\n",
    "    scoring='balanced_accuracy',\n",
    "    cv=cv,\n",
    "    verbose=2,\n",
    "    n_jobs=8,\n",
    "    random_state=random_state\n",
    ")\n",
    "\n",
    "with joblib.parallel_backend('loky', n_jobs=8):\n",
    "    brf_rand_search.fit(X_train, y_train)"
   ],
   "id": "4382f84fad5a686",
   "outputs": [
    {
     "name": "stdout",
     "output_type": "stream",
     "text": [
      "Fitting 5 folds for each of 20 candidates, totalling 100 fits\n"
     ]
    },
    {
     "name": "stderr",
     "output_type": "stream",
     "text": [
      "[Parallel(n_jobs=4)]: Using backend LokyBackend with 4 concurrent workers.\n",
      "[Parallel(n_jobs=4)]: Done  39 out of  39 | elapsed:   19.6s finished\n"
     ]
    }
   ],
   "execution_count": 148
  },
  {
   "metadata": {
    "ExecuteTime": {
     "end_time": "2025-02-03T15:51:06.192798Z",
     "start_time": "2025-02-03T15:51:04.847956Z"
    }
   },
   "cell_type": "code",
   "source": [
    "brf_model = brf_rand_search.best_estimator_\n",
    "brf_y_pred = brf_model.predict(X_test)"
   ],
   "id": "f57704cb83f2c5a7",
   "outputs": [
    {
     "name": "stderr",
     "output_type": "stream",
     "text": [
      "[Parallel(n_jobs=4)]: Using backend ThreadingBackend with 4 concurrent workers.\n",
      "[Parallel(n_jobs=4)]: Done  39 out of  39 | elapsed:    0.0s finished\n"
     ]
    }
   ],
   "execution_count": 149
  },
  {
   "metadata": {
    "ExecuteTime": {
     "end_time": "2025-02-03T15:52:18.120607Z",
     "start_time": "2025-02-03T15:52:18.071441Z"
    }
   },
   "cell_type": "code",
   "source": [
    "print(classification_report(y_test, brf_y_pred))\n",
    "print(brf_rand_search.best_params_)"
   ],
   "id": "219b97e8cc8cd635",
   "outputs": [
    {
     "name": "stdout",
     "output_type": "stream",
     "text": [
      "              precision    recall  f1-score   support\n",
      "\n",
      "           0       0.44      0.87      0.59      1182\n",
      "           1       0.98      0.84      0.90      7849\n",
      "\n",
      "    accuracy                           0.84      9031\n",
      "   macro avg       0.71      0.85      0.74      9031\n",
      "weighted avg       0.91      0.84      0.86      9031\n",
      "\n",
      "{'classifier__class_weight': 'balanced_subsample', 'classifier__max_depth': 30, 'classifier__n_estimators': 39}\n"
     ]
    }
   ],
   "execution_count": 152
  },
  {
   "metadata": {
    "ExecuteTime": {
     "end_time": "2025-02-03T15:54:03.067089Z",
     "start_time": "2025-02-03T15:54:02.914610Z"
    }
   },
   "cell_type": "code",
   "source": "joblib.dump(brf_model, 'brf_wt_ar.pkl')",
   "id": "10f5bfd953b22221",
   "outputs": [
    {
     "data": {
      "text/plain": [
       "['brf_wt_ar.pkl']"
      ]
     },
     "execution_count": 153,
     "metadata": {},
     "output_type": "execute_result"
    }
   ],
   "execution_count": 153
  }
 ],
 "metadata": {
  "kernelspec": {
   "display_name": "Python 3",
   "language": "python",
   "name": "python3"
  },
  "language_info": {
   "codemirror_mode": {
    "name": "ipython",
    "version": 2
   },
   "file_extension": ".py",
   "mimetype": "text/x-python",
   "name": "python",
   "nbconvert_exporter": "python",
   "pygments_lexer": "ipython2",
   "version": "2.7.6"
  }
 },
 "nbformat": 4,
 "nbformat_minor": 5
}
