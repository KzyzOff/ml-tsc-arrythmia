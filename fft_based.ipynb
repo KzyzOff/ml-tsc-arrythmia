{
 "cells": [
  {
   "metadata": {},
   "cell_type": "markdown",
   "source": "## 0 - 250 Hz",
   "id": "7cb4b385c25307a6"
  },
  {
   "metadata": {
    "ExecuteTime": {
     "end_time": "2025-02-04T23:23:48.750363Z",
     "start_time": "2025-02-04T23:23:46.365227Z"
    }
   },
   "cell_type": "code",
   "source": [
    "import os\n",
    "\n",
    "import numpy as np\n",
    "import matplotlib.pyplot as plt\n",
    "from sklearn.model_selection import train_test_split, cross_val_score, StratifiedKFold\n",
    "from sklearn.svm import SVC\n",
    "from sklearn.preprocessing import StandardScaler\n",
    "from sklearn.decomposition import PCA\n",
    "from sklearn.pipeline import Pipeline"
   ],
   "id": "2e16734764098917",
   "outputs": [],
   "execution_count": 1
  },
  {
   "metadata": {
    "ExecuteTime": {
     "end_time": "2025-02-04T23:23:48.765915Z",
     "start_time": "2025-02-04T23:23:48.751433Z"
    }
   },
   "cell_type": "code",
   "source": "dataset = np.load('data/database_1_fft.npz')",
   "id": "initial_id",
   "outputs": [],
   "execution_count": 2
  },
  {
   "metadata": {
    "ExecuteTime": {
     "end_time": "2025-02-04T23:23:56.434031Z",
     "start_time": "2025-02-04T23:23:48.767440Z"
    }
   },
   "cell_type": "code",
   "source": [
    "random_state = 420\n",
    "\n",
    "X_train, X_test, y_train, y_test = train_test_split(dataset['fourier'], dataset['label'], test_size=0.2, stratify=dataset['label'], random_state=random_state)"
   ],
   "id": "2957242ca2fc2feb",
   "outputs": [],
   "execution_count": 3
  },
  {
   "metadata": {
    "ExecuteTime": {
     "end_time": "2025-02-04T23:33:56.413327Z",
     "start_time": "2025-02-04T23:33:56.393139Z"
    }
   },
   "cell_type": "code",
   "source": [
    "from sklearn.metrics import classification_report\n",
    "from sklearn.preprocessing import StandardScaler\n",
    "from sklearn.pipeline import Pipeline\n",
    "from sklearn.decomposition import PCA\n",
    "from sklearn.svm import SVC\n",
    "import joblib\n",
    "\n",
    "skf = StratifiedKFold(n_splits=5, random_state=random_state, shuffle=True)\n",
    "\n",
    "svc_250 = SVC(random_state=random_state, verbose=2, class_weight='balanced')\n",
    "pca_250 = PCA(n_components=50, random_state=random_state)\n",
    "\n",
    "svm_250_pipeline = Pipeline([\n",
    "    ('scale', StandardScaler()),\n",
    "    ('pca', pca_250),\n",
    "    ('classifier', svc_250)\n",
    "])"
   ],
   "id": "313edf454d06c769",
   "outputs": [],
   "execution_count": 10
  },
  {
   "metadata": {
    "ExecuteTime": {
     "end_time": "2025-02-04T23:39:43.828851Z",
     "start_time": "2025-02-04T23:33:58.185889Z"
    }
   },
   "cell_type": "code",
   "source": [
    "with joblib.parallel_backend('loky', n_jobs=8):\n",
    "    svm_250_score = cross_val_score(svm_250_pipeline, X_train, y_train, cv=skf, scoring='balanced_accuracy', verbose=2)\n",
    "    svm_250_pipeline.fit(X_train, y_train)"
   ],
   "id": "ce977a2c2691658a",
   "outputs": [
    {
     "name": "stderr",
     "output_type": "stream",
     "text": [
      "[Parallel(n_jobs=8)]: Using backend LokyBackend with 8 concurrent workers.\n",
      "[Parallel(n_jobs=8)]: Done   2 out of   5 | elapsed:  4.4min remaining:  6.6min\n",
      "[Parallel(n_jobs=8)]: Done   5 out of   5 | elapsed:  4.6min finished\n"
     ]
    },
    {
     "name": "stdout",
     "output_type": "stream",
     "text": [
      "[LibSVM]"
     ]
    }
   ],
   "execution_count": 11
  },
  {
   "metadata": {
    "ExecuteTime": {
     "end_time": "2025-02-04T23:39:58.889160Z",
     "start_time": "2025-02-04T23:39:43.834677Z"
    }
   },
   "cell_type": "code",
   "source": [
    "print(f'Test score: {svm_250_score.mean() : .2f} ({svm_250_score.std() : .2f})')\n",
    "y_250_pred = svm_250_pipeline.predict(X_test)\n",
    "print(classification_report(y_test, y_250_pred))"
   ],
   "id": "e00911d971244587",
   "outputs": [
    {
     "name": "stdout",
     "output_type": "stream",
     "text": [
      "Test score:  0.76 ( 0.01)\n",
      "              precision    recall  f1-score   support\n",
      "\n",
      "           0       0.30      0.83      0.44      1182\n",
      "           1       0.96      0.70      0.81      7849\n",
      "\n",
      "    accuracy                           0.72      9031\n",
      "   macro avg       0.63      0.77      0.63      9031\n",
      "weighted avg       0.88      0.72      0.76      9031\n",
      "\n"
     ]
    }
   ],
   "execution_count": 12
  },
  {
   "metadata": {
    "ExecuteTime": {
     "end_time": "2025-02-04T23:41:41.127746Z",
     "start_time": "2025-02-04T23:41:41.111106Z"
    }
   },
   "cell_type": "code",
   "source": [
    "from imblearn.ensemble import BalancedRandomForestClassifier\n",
    "\n",
    "brfc_250 = BalancedRandomForestClassifier(random_state=random_state, verbose=1, class_weight='balanced')\n",
    "\n",
    "brfc_250_pipeline = Pipeline([\n",
    "    ('scale', StandardScaler()),\n",
    "    ('pca', pca_250),\n",
    "    ('classifier', brfc_250)\n",
    "])"
   ],
   "id": "27f695d724b0739b",
   "outputs": [],
   "execution_count": 14
  },
  {
   "metadata": {
    "ExecuteTime": {
     "end_time": "2025-02-04T23:46:24.681654Z",
     "start_time": "2025-02-04T23:41:46.929949Z"
    }
   },
   "cell_type": "code",
   "source": [
    "with joblib.parallel_backend('loky', n_jobs=6):\n",
    "    brfc_250_score = cross_val_score(brfc_250_pipeline, X_train, y_train, cv=skf, scoring='balanced_accuracy', verbose=2)\n",
    "    brfc_250_pipeline.fit(X_train, y_train)\n",
    "    \n",
    "print(f'Test score: {brfc_250_score.mean() : .2f} ({brfc_250_score.std() : .2f})')\n",
    "y_brfc_250_pred = brfc_250_pipeline.predict(X_test)\n",
    "print(classification_report(y_test, y_brfc_250_pred))"
   ],
   "id": "a493456be98101cf",
   "outputs": [
    {
     "name": "stderr",
     "output_type": "stream",
     "text": [
      "[Parallel(n_jobs=6)]: Using backend LokyBackend with 6 concurrent workers.\n",
      "[Parallel(n_jobs=6)]: Done   3 out of   5 | elapsed:  4.0min remaining:  2.7min\n",
      "[Parallel(n_jobs=6)]: Done   5 out of   5 | elapsed:  4.1min finished\n",
      "[Parallel(n_jobs=6)]: Using backend LokyBackend with 6 concurrent workers.\n",
      "[Parallel(n_jobs=6)]: Done  38 tasks      | elapsed:    1.6s\n",
      "[Parallel(n_jobs=6)]: Done 100 out of 100 | elapsed:    3.9s finished\n"
     ]
    },
    {
     "name": "stdout",
     "output_type": "stream",
     "text": [
      "Test score:  0.81 ( 0.01)\n",
      "              precision    recall  f1-score   support\n",
      "\n",
      "           0       0.54      0.73      0.62      1182\n",
      "           1       0.96      0.90      0.93      7849\n",
      "\n",
      "    accuracy                           0.88      9031\n",
      "   macro avg       0.75      0.82      0.77      9031\n",
      "weighted avg       0.90      0.88      0.89      9031\n",
      "\n"
     ]
    },
    {
     "name": "stderr",
     "output_type": "stream",
     "text": [
      "[Parallel(n_jobs=1)]: Done  49 tasks      | elapsed:    0.0s\n"
     ]
    }
   ],
   "execution_count": 15
  },
  {
   "metadata": {},
   "cell_type": "markdown",
   "source": [
    "---\n",
    "\n",
    "## 0 - 100 Hz"
   ],
   "id": "7969fb77abf3b65a"
  },
  {
   "metadata": {
    "ExecuteTime": {
     "end_time": "2025-02-04T23:52:46.232604Z",
     "start_time": "2025-02-04T23:52:33.086719Z"
    }
   },
   "cell_type": "code",
   "source": [
    "signal = dataset['fourier'][0]\n",
    "N = len(signal)\n",
    "fs = 500\n",
    "\n",
    "freqs = np.fft.fftfreq(N, 1 / fs)\n",
    "positive_freqs = freqs[: N // 2]\n",
    "mag_values = signal[: N // 2]\n",
    "\n",
    "mask_100hz = positive_freqs <= 100\n",
    "filtered_freqs = positive_freqs[mask_100hz]\n",
    "filtered_mag_values = mag_values[mask_100hz]\n",
    "\n",
    "plt.plot(filtered_freqs, filtered_mag_values, label='Magnitude')\n",
    "plt.xlabel('frequency [Hz]')\n",
    "plt.ylabel('magnitude [mV]')\n",
    "plt.grid()\n",
    "plt.tight_layout()"
   ],
   "id": "e250689b94a15d9e",
   "outputs": [
    {
     "data": {
      "text/plain": [
       "<Figure size 640x480 with 1 Axes>"
      ],
      "image/png": "[encoded data removed]"
     },
     "metadata": {},
     "output_type": "display_data"
    }
   ],
   "execution_count": 23
  },
  {
   "metadata": {},
   "cell_type": "code",
   "source": [
    "from sklearn.model_selection import train_test_split\n",
    "\n",
    "y = dataset['label']\n",
    "X_mag_fft = dataset['fourier'][: N // 2]\n",
    "X_mag_fft = X_mag_fft[:, mask_100hz]\n",
    "\n",
    "random_state = 420\n",
    "\n",
    "X_train, X_test, y_train, y_test = train_test_split(X_mag_fft, y, test_size=0.2, stratify=y, random_state=420)"
   ],
   "id": "c0890368d1d839b7",
   "outputs": [],
   "execution_count": null
  },
  {
   "metadata": {},
   "cell_type": "markdown",
   "source": "### BalancedRandomForest",
   "id": "d714443a155e1d70"
  },
  {
   "metadata": {
    "ExecuteTime": {
     "end_time": "2025-02-02T12:01:42.383387Z",
     "start_time": "2025-02-02T12:01:42.377179Z"
    }
   },
   "cell_type": "code",
   "source": [
    "from imblearn.ensemble import BalancedRandomForestClassifier\n",
    "from sklearn.model_selection import StratifiedKFold, GridSearchCV, cross_val_score\n",
    "from sklearn.metrics import classification_report\n",
    "from sklearn.preprocessing import StandardScaler\n",
    "from sklearn.decomposition import PCA\n",
    "from sklearn.pipeline import Pipeline\n",
    "\n",
    "pca = PCA(n_components=50, random_state=random_state)\n",
    "clf = BalancedRandomForestClassifier(n_estimators=100, random_state=random_state, n_jobs=os.cpu_count() - 2, verbose=2)\n",
    "skf = StratifiedKFold(n_splits=5, shuffle=True, random_state=random_state)\n",
    "\n",
    "pipeline = Pipeline([\n",
    "    ('scale', StandardScaler()),\n",
    "    ('pca', pca),\n",
    "    ('classifier', clf)\n",
    "])\n",
    "\n",
    "param_grid = {\n",
    "    'pca__n_components': [60, 80, 100, 120, 140],\n",
    "    'classifier__n_estimators': [60, 80, 100, 120, 140, 160, 180, 200]\n",
    "}"
   ],
   "id": "89bc19c08bc03f70",
   "outputs": [],
   "execution_count": 6
  },
  {
   "metadata": {},
   "cell_type": "code",
   "source": [
    "grid_search = GridSearchCV(estimator=pipeline, param_grid=param_grid, cv=skf, scoring='balanced_accuracy', n_jobs=os.cpu_count() - 2, verbose=2)\n",
    "grid_search.fit(X_train, y_train)"
   ],
   "id": "c6d7fc21247edb19",
   "outputs": [],
   "execution_count": null
  },
  {
   "metadata": {
    "ExecuteTime": {
     "end_time": "2025-02-02T12:13:01.765232Z",
     "start_time": "2025-02-02T12:13:01.223450Z"
    }
   },
   "cell_type": "code",
   "source": [
    "import joblib\n",
    "\n",
    "joblib.dump(grid_search.best_estimator_, 'models/BRFC_PCA.pkl')"
   ],
   "id": "20262836d433b7a9",
   "outputs": [
    {
     "data": {
      "text/plain": [
       "['models/BRFC_PCA.pkl']"
      ]
     },
     "execution_count": 8,
     "metadata": {},
     "output_type": "execute_result"
    }
   ],
   "execution_count": 8
  },
  {
   "metadata": {
    "ExecuteTime": {
     "end_time": "2025-02-02T12:13:17.997813Z",
     "start_time": "2025-02-02T12:13:17.992746Z"
    }
   },
   "cell_type": "code",
   "source": "print(f'Best parameters: {grid_search.best_params_}')",
   "id": "3ee84641ddb20d9e",
   "outputs": [
    {
     "name": "stdout",
     "output_type": "stream",
     "text": [
      "Best parameters: {'classifier__n_estimators': 180, 'pca__n_components': 60}\n"
     ]
    }
   ],
   "execution_count": 10
  },
  {
   "metadata": {},
   "cell_type": "code",
   "source": [
    "import joblib\n",
    "from sklearn.model_selection import cross_val_score, StratifiedKFold\n",
    "\n",
    "skf = StratifiedKFold(n_splits=5, shuffle=True, random_state=random_state)\n",
    "\n",
    "# best_model = grid_search.best_estimator_\n",
    "best_model = joblib.load('models/BRFC_PCA.pkl')\n",
    "cv_score = cross_val_score(best_model, X_train, y_train, cv=skf, scoring='balanced_accuracy', n_jobs=os.cpu_count() - 2, verbose=2)\n",
    "y_pred = best_model.predict(X_test)"
   ],
   "id": "25bb967cc8dcf6ac",
   "outputs": [],
   "execution_count": null
  },
  {
   "metadata": {
    "ExecuteTime": {
     "end_time": "2025-02-02T12:16:00.312369Z",
     "start_time": "2025-02-02T12:16:00.286130Z"
    }
   },
   "cell_type": "code",
   "source": [
    "print(f'Test score: {cv_score.mean() : .2f} ({cv_score.std() : .2f})')\n",
    "print(classification_report(y_test, y_pred))"
   ],
   "id": "59445bef8765be45",
   "outputs": [
    {
     "name": "stdout",
     "output_type": "stream",
     "text": [
      "Test score:  0.87 ( 0.00)\n",
      "              precision    recall  f1-score   support\n",
      "\n",
      "           0       0.59      0.84      0.69      1182\n",
      "           1       0.97      0.91      0.94      7849\n",
      "\n",
      "    accuracy                           0.90      9031\n",
      "   macro avg       0.78      0.88      0.82      9031\n",
      "weighted avg       0.92      0.90      0.91      9031\n",
      "\n"
     ]
    }
   ],
   "execution_count": 17
  },
  {
   "metadata": {},
   "cell_type": "markdown",
   "source": "### SVM",
   "id": "77d205327200bba8"
  },
  {
   "metadata": {
    "ExecuteTime": {
     "end_time": "2025-02-05T00:18:17.624757Z",
     "start_time": "2025-02-05T00:18:17.604160Z"
    }
   },
   "cell_type": "code",
   "source": [
    "from sklearn.metrics import classification_report\n",
    "from sklearn.preprocessing import StandardScaler\n",
    "from sklearn.pipeline import Pipeline\n",
    "from sklearn.decomposition import PCA\n",
    "from sklearn.svm import SVC\n",
    "import joblib\n",
    "\n",
    "random_state = 420\n",
    "\n",
    "svc_500 = SVC(random_state=random_state, verbose=2, class_weight='balanced')\n",
    "pca_500 = PCA(n_components=50, random_state=random_state)\n",
    "scaler = StandardScaler()\n",
    "\n",
    "svm_500_pipeline = Pipeline([\n",
    "    ('scale', StandardScaler()),\n",
    "    ('pca', pca_500),\n",
    "    ('classifier', svc_500)\n",
    "])"
   ],
   "id": "6bb70b0e669c41fa",
   "outputs": [],
   "execution_count": 32
  },
  {
   "metadata": {
    "ExecuteTime": {
     "end_time": "2025-02-05T00:19:43.777100Z",
     "start_time": "2025-02-05T00:18:36.392719Z"
    }
   },
   "cell_type": "code",
   "source": [
    "with joblib.parallel_backend('loky', n_jobs=10):\n",
    "    # svm_500_score = cross_val_score(svm_500_pipeline, X_train, y_train, cv=skf, scoring='balanced_accuracy', verbose=2)\n",
    "    svm_500_pipeline.fit(X_train, y_train)"
   ],
   "id": "2d644cc9543946de",
   "outputs": [
    {
     "name": "stdout",
     "output_type": "stream",
     "text": [
      "[LibSVM]"
     ]
    }
   ],
   "execution_count": 33
  },
  {
   "metadata": {
    "ExecuteTime": {
     "end_time": "2025-02-05T00:23:16.855431Z",
     "start_time": "2025-02-05T00:19:43.779144Z"
    }
   },
   "cell_type": "code",
   "source": [
    "with joblib.parallel_backend('loky', n_jobs=6):\n",
    "    svm_500_score = cross_val_score(svm_500_pipeline,\n",
    "                                    X_train,\n",
    "                                    y_train,\n",
    "                                    cv=skf,\n",
    "                                    scoring='balanced_accuracy',\n",
    "                                    verbose=1)\n",
    "y_500_pred = svm_500_pipeline.predict(X_test)"
   ],
   "id": "c4824b7bc2df072b",
   "outputs": [
    {
     "name": "stderr",
     "output_type": "stream",
     "text": [
      "[Parallel(n_jobs=6)]: Using backend LokyBackend with 6 concurrent workers.\n",
      "[Parallel(n_jobs=6)]: Done   5 out of   5 | elapsed:  3.3min finished\n"
     ]
    }
   ],
   "execution_count": 34
  },
  {
   "metadata": {
    "ExecuteTime": {
     "end_time": "2025-02-05T00:23:17.009422Z",
     "start_time": "2025-02-05T00:23:16.883817Z"
    }
   },
   "cell_type": "code",
   "source": [
    "print(f'SVM balanced accuracy score: {svm_500_score.mean() : .2f} ({svm_500_score.std() : .2f})')\n",
    "print(classification_report(y_test, y_500_pred))"
   ],
   "id": "2fe7c663418920bb",
   "outputs": [
    {
     "name": "stdout",
     "output_type": "stream",
     "text": [
      "SVM balanced accuracy score:  0.76 ( 0.01)\n",
      "              precision    recall  f1-score   support\n",
      "\n",
      "           0       0.30      0.83      0.44      1182\n",
      "           1       0.96      0.70      0.81      7849\n",
      "\n",
      "    accuracy                           0.72      9031\n",
      "   macro avg       0.63      0.77      0.63      9031\n",
      "weighted avg       0.88      0.72      0.76      9031\n",
      "\n"
     ]
    }
   ],
   "execution_count": 35
  },
  {
   "metadata": {},
   "cell_type": "markdown",
   "source": [
    "---\n",
    "\n",
    "### fs = 240 -> denoised signal downsampling test"
   ],
   "id": "8bb6c34fea9f31a4"
  },
  {
   "metadata": {
    "ExecuteTime": {
     "end_time": "2025-02-01T14:49:03.174686Z",
     "start_time": "2025-02-01T14:48:51.611157Z"
    }
   },
   "cell_type": "code",
   "source": [
    "from scipy.signal import resample\n",
    "\n",
    "target_fs = 240\n",
    "duration_s = 10\n",
    "target_n_samples = target_fs * duration_s\n",
    "ecg_downsampled = resample(dataset['ecg'], target_n_samples, axis=1)\n",
    "\n",
    "print(ecg_downsampled.shape)"
   ],
   "id": "30d734f259aec5be",
   "outputs": [
    {
     "name": "stdout",
     "output_type": "stream",
     "text": [
      "(45152, 2400)\n"
     ]
    }
   ],
   "execution_count": 7
  },
  {
   "metadata": {
    "ExecuteTime": {
     "end_time": "2025-02-01T18:46:49.855371Z",
     "start_time": "2025-02-01T18:46:49.836430Z"
    }
   },
   "cell_type": "code",
   "source": [
    "from sklearn.model_selection import cross_val_score, StratifiedKFold, RandomizedSearchCV\n",
    "from sklearn.metrics import classification_report\n",
    "from sklearn.preprocessing import StandardScaler\n",
    "from sklearn.pipeline import Pipeline\n",
    "from sklearn.decomposition import PCA\n",
    "from sklearn.svm import SVC\n",
    "from scipy.stats import uniform, randint\n",
    "\n",
    "random_state = 420\n",
    "\n",
    "# svc = SVC(random_state=random_state)\n",
    "# pca = PCA(n_components=50, random_state=random_state)\n",
    "scaler = StandardScaler()\n",
    "\n",
    "param_distributions = {\n",
    "    'pca__n_components': randint(50, 200),\n",
    "    'classifier__C': uniform(0.1, 10),\n",
    "    'classifier__gamma': uniform(0.001, 1),\n",
    "    'classifier__kernel': ['rbf']\n",
    "}\n",
    "\n",
    "svm_pipeline = Pipeline([\n",
    "    ('scale', scaler),\n",
    "    ('pca', PCA()),\n",
    "    ('classifier', SVC())\n",
    "])\n",
    "\n",
    "skf = StratifiedKFold(n_splits=5, shuffle=True, random_state=random_state)"
   ],
   "id": "cec9e1d8a13e04ca",
   "outputs": [],
   "execution_count": 41
  },
  {
   "metadata": {},
   "cell_type": "markdown",
   "source": "##### Randomized param search",
   "id": "d6b2f4778ba7a3f2"
  },
  {
   "metadata": {},
   "cell_type": "code",
   "source": [
    "rand_search = RandomizedSearchCV(\n",
    "    svm_pipeline,\n",
    "    param_distributions,\n",
    "    n_iter=20,\n",
    "    scoring='balanced_accuracy',\n",
    "    cv=skf,\n",
    "    verbose=2,\n",
    "    random_state=random_state,\n",
    "    n_jobs=os.cpu_count() - 2\n",
    ")\n",
    "\n",
    "rand_search.fit(X_train, y_train)"
   ],
   "id": "a82f9a9350381322",
   "outputs": [],
   "execution_count": null
  },
  {
   "metadata": {},
   "cell_type": "code",
   "source": [
    "print('Best params', rand_search.best_params_)\n",
    "print('Best balanced accuracy', rand_search.best_score_)"
   ],
   "id": "a352b27361f36769",
   "outputs": [],
   "execution_count": null
  },
  {
   "metadata": {},
   "cell_type": "markdown",
   "source": "##### Normal pipeline",
   "id": "53b98fab452f4117"
  },
  {
   "metadata": {
    "ExecuteTime": {
     "end_time": "2025-02-01T18:18:14.591215Z",
     "start_time": "2025-02-01T18:17:00.746164Z"
    }
   },
   "cell_type": "code",
   "source": [
    "cv_score = cross_val_score(svm_pipeline, X_train, y_train, cv=skf, scoring='balanced_accuracy', verbose=1, n_jobs=os.cpu_count() - 4)\n",
    "svm_pipeline.fit(X_train, y_train)"
   ],
   "id": "b4003b3ddf39c14b",
   "outputs": [
    {
     "name": "stderr",
     "output_type": "stream",
     "text": [
      "[Parallel(n_jobs=8)]: Using backend LokyBackend with 8 concurrent workers.\n",
      "[Parallel(n_jobs=8)]: Done   2 out of   5 | elapsed:   50.9s remaining:  1.3min\n",
      "[Parallel(n_jobs=8)]: Done   5 out of   5 | elapsed:   52.3s finished\n"
     ]
    },
    {
     "data": {
      "text/plain": [
       "Pipeline(steps=[('scale', StandardScaler()),\n",
       "                ('pca', PCA(n_components=50, random_state=420)),\n",
       "                ('classifier', SVC(random_state=420))])"
      ],
      "text/html": [
       "<style>#sk-container-id-5 {\n",
       "  /* Definition of color scheme common for light and dark mode */\n",
       "  --sklearn-color-text: black;\n",
       "  --sklearn-color-line: gray;\n",
       "  /* Definition of color scheme for unfitted estimators */\n",
       "  --sklearn-color-unfitted-level-0: #fff5e6;\n",
       "  --sklearn-color-unfitted-level-1: #f6e4d2;\n",
       "  --sklearn-color-unfitted-level-2: #ffe0b3;\n",
       "  --sklearn-color-unfitted-level-3: chocolate;\n",
       "  /* Definition of color scheme for fitted estimators */\n",
       "  --sklearn-color-fitted-level-0: #f0f8ff;\n",
       "  --sklearn-color-fitted-level-1: #d4ebff;\n",
       "  --sklearn-color-fitted-level-2: #b3dbfd;\n",
       "  --sklearn-color-fitted-level-3: cornflowerblue;\n",
       "\n",
       "  /* Specific color for light theme */\n",
       "  --sklearn-color-text-on-default-background: var(--sg-text-color, var(--theme-code-foreground, var(--jp-content-font-color1, black)));\n",
       "  --sklearn-color-background: var(--sg-background-color, var(--theme-background, var(--jp-layout-color0, white)));\n",
       "  --sklearn-color-border-box: var(--sg-text-color, var(--theme-code-foreground, var(--jp-content-font-color1, black)));\n",
       "  --sklearn-color-icon: #696969;\n",
       "\n",
       "  @media (prefers-color-scheme: dark) {\n",
       "    /* Redefinition of color scheme for dark theme */\n",
       "    --sklearn-color-text-on-default-background: var(--sg-text-color, var(--theme-code-foreground, var(--jp-content-font-color1, white)));\n",
       "    --sklearn-color-background: var(--sg-background-color, var(--theme-background, var(--jp-layout-color0, #111)));\n",
       "    --sklearn-color-border-box: var(--sg-text-color, var(--theme-code-foreground, var(--jp-content-font-color1, white)));\n",
       "    --sklearn-color-icon: #878787;\n",
       "  }\n",
       "}\n",
       "\n",
       "#sk-container-id-5 {\n",
       "  color: var(--sklearn-color-text);\n",
       "}\n",
       "\n",
       "#sk-container-id-5 pre {\n",
       "  padding: 0;\n",
       "}\n",
       "\n",
       "#sk-container-id-5 input.sk-hidden--visually {\n",
       "  border: 0;\n",
       "  clip: rect(1px 1px 1px 1px);\n",
       "  clip: rect(1px, 1px, 1px, 1px);\n",
       "  height: 1px;\n",
       "  margin: -1px;\n",
       "  overflow: hidden;\n",
       "  padding: 0;\n",
       "  position: absolute;\n",
       "  width: 1px;\n",
       "}\n",
       "\n",
       "#sk-container-id-5 div.sk-dashed-wrapped {\n",
       "  border: 1px dashed var(--sklearn-color-line);\n",
       "  margin: 0 0.4em 0.5em 0.4em;\n",
       "  box-sizing: border-box;\n",
       "  padding-bottom: 0.4em;\n",
       "  background-color: var(--sklearn-color-background);\n",
       "}\n",
       "\n",
       "#sk-container-id-5 div.sk-container {\n",
       "  /* jupyter's `normalize.less` sets `[hidden] { display: none; }`\n",
       "     but bootstrap.min.css set `[hidden] { display: none !important; }`\n",
       "     so we also need the `!important` here to be able to override the\n",
       "     default hidden behavior on the sphinx rendered scikit-learn.org.\n",
       "     See: https://github.com/scikit-learn/scikit-learn/issues/21755 */\n",
       "  display: inline-block !important;\n",
       "  position: relative;\n",
       "}\n",
       "\n",
       "#sk-container-id-5 div.sk-text-repr-fallback {\n",
       "  display: none;\n",
       "}\n",
       "\n",
       "div.sk-parallel-item,\n",
       "div.sk-serial,\n",
       "div.sk-item {\n",
       "  /* draw centered vertical line to link estimators */\n",
       "  background-image: linear-gradient(var(--sklearn-color-text-on-default-background), var(--sklearn-color-text-on-default-background));\n",
       "  background-size: 2px 100%;\n",
       "  background-repeat: no-repeat;\n",
       "  background-position: center center;\n",
       "}\n",
       "\n",
       "/* Parallel-specific style estimator block */\n",
       "\n",
       "#sk-container-id-5 div.sk-parallel-item::after {\n",
       "  content: \"\";\n",
       "  width: 100%;\n",
       "  border-bottom: 2px solid var(--sklearn-color-text-on-default-background);\n",
       "  flex-grow: 1;\n",
       "}\n",
       "\n",
       "#sk-container-id-5 div.sk-parallel {\n",
       "  display: flex;\n",
       "  align-items: stretch;\n",
       "  justify-content: center;\n",
       "  background-color: var(--sklearn-color-background);\n",
       "  position: relative;\n",
       "}\n",
       "\n",
       "#sk-container-id-5 div.sk-parallel-item {\n",
       "  display: flex;\n",
       "  flex-direction: column;\n",
       "}\n",
       "\n",
       "#sk-container-id-5 div.sk-parallel-item:first-child::after {\n",
       "  align-self: flex-end;\n",
       "  width: 50%;\n",
       "}\n",
       "\n",
       "#sk-container-id-5 div.sk-parallel-item:last-child::after {\n",
       "  align-self: flex-start;\n",
       "  width: 50%;\n",
       "}\n",
       "\n",
       "#sk-container-id-5 div.sk-parallel-item:only-child::after {\n",
       "  width: 0;\n",
       "}\n",
       "\n",
       "/* Serial-specific style estimator block */\n",
       "\n",
       "#sk-container-id-5 div.sk-serial {\n",
       "  display: flex;\n",
       "  flex-direction: column;\n",
       "  align-items: center;\n",
       "  background-color: var(--sklearn-color-background);\n",
       "  padding-right: 1em;\n",
       "  padding-left: 1em;\n",
       "}\n",
       "\n",
       "\n",
       "/* Toggleable style: style used for estimator/Pipeline/ColumnTransformer box that is\n",
       "clickable and can be expanded/collapsed.\n",
       "- Pipeline and ColumnTransformer use this feature and define the default style\n",
       "- Estimators will overwrite some part of the style using the `sk-estimator` class\n",
       "*/\n",
       "\n",
       "/* Pipeline and ColumnTransformer style (default) */\n",
       "\n",
       "#sk-container-id-5 div.sk-toggleable {\n",
       "  /* Default theme specific background. It is overwritten whether we have a\n",
       "  specific estimator or a Pipeline/ColumnTransformer */\n",
       "  background-color: var(--sklearn-color-background);\n",
       "}\n",
       "\n",
       "/* Toggleable label */\n",
       "#sk-container-id-5 label.sk-toggleable__label {\n",
       "  cursor: pointer;\n",
       "  display: block;\n",
       "  width: 100%;\n",
       "  margin-bottom: 0;\n",
       "  padding: 0.5em;\n",
       "  box-sizing: border-box;\n",
       "  text-align: center;\n",
       "}\n",
       "\n",
       "#sk-container-id-5 label.sk-toggleable__label-arrow:before {\n",
       "  /* Arrow on the left of the label */\n",
       "  content: \"▸\";\n",
       "  float: left;\n",
       "  margin-right: 0.25em;\n",
       "  color: var(--sklearn-color-icon);\n",
       "}\n",
       "\n",
       "#sk-container-id-5 label.sk-toggleable__label-arrow:hover:before {\n",
       "  color: var(--sklearn-color-text);\n",
       "}\n",
       "\n",
       "/* Toggleable content - dropdown */\n",
       "\n",
       "#sk-container-id-5 div.sk-toggleable__content {\n",
       "  max-height: 0;\n",
       "  max-width: 0;\n",
       "  overflow: hidden;\n",
       "  text-align: left;\n",
       "  /* unfitted */\n",
       "  background-color: var(--sklearn-color-unfitted-level-0);\n",
       "}\n",
       "\n",
       "#sk-container-id-5 div.sk-toggleable__content.fitted {\n",
       "  /* fitted */\n",
       "  background-color: var(--sklearn-color-fitted-level-0);\n",
       "}\n",
       "\n",
       "#sk-container-id-5 div.sk-toggleable__content pre {\n",
       "  margin: 0.2em;\n",
       "  border-radius: 0.25em;\n",
       "  color: var(--sklearn-color-text);\n",
       "  /* unfitted */\n",
       "  background-color: var(--sklearn-color-unfitted-level-0);\n",
       "}\n",
       "\n",
       "#sk-container-id-5 div.sk-toggleable__content.fitted pre {\n",
       "  /* unfitted */\n",
       "  background-color: var(--sklearn-color-fitted-level-0);\n",
       "}\n",
       "\n",
       "#sk-container-id-5 input.sk-toggleable__control:checked~div.sk-toggleable__content {\n",
       "  /* Expand drop-down */\n",
       "  max-height: 200px;\n",
       "  max-width: 100%;\n",
       "  overflow: auto;\n",
       "}\n",
       "\n",
       "#sk-container-id-5 input.sk-toggleable__control:checked~label.sk-toggleable__label-arrow:before {\n",
       "  content: \"▾\";\n",
       "}\n",
       "\n",
       "/* Pipeline/ColumnTransformer-specific style */\n",
       "\n",
       "#sk-container-id-5 div.sk-label input.sk-toggleable__control:checked~label.sk-toggleable__label {\n",
       "  color: var(--sklearn-color-text);\n",
       "  background-color: var(--sklearn-color-unfitted-level-2);\n",
       "}\n",
       "\n",
       "#sk-container-id-5 div.sk-label.fitted input.sk-toggleable__control:checked~label.sk-toggleable__label {\n",
       "  background-color: var(--sklearn-color-fitted-level-2);\n",
       "}\n",
       "\n",
       "/* Estimator-specific style */\n",
       "\n",
       "/* Colorize estimator box */\n",
       "#sk-container-id-5 div.sk-estimator input.sk-toggleable__control:checked~label.sk-toggleable__label {\n",
       "  /* unfitted */\n",
       "  background-color: var(--sklearn-color-unfitted-level-2);\n",
       "}\n",
       "\n",
       "#sk-container-id-5 div.sk-estimator.fitted input.sk-toggleable__control:checked~label.sk-toggleable__label {\n",
       "  /* fitted */\n",
       "  background-color: var(--sklearn-color-fitted-level-2);\n",
       "}\n",
       "\n",
       "#sk-container-id-5 div.sk-label label.sk-toggleable__label,\n",
       "#sk-container-id-5 div.sk-label label {\n",
       "  /* The background is the default theme color */\n",
       "  color: var(--sklearn-color-text-on-default-background);\n",
       "}\n",
       "\n",
       "/* On hover, darken the color of the background */\n",
       "#sk-container-id-5 div.sk-label:hover label.sk-toggleable__label {\n",
       "  color: var(--sklearn-color-text);\n",
       "  background-color: var(--sklearn-color-unfitted-level-2);\n",
       "}\n",
       "\n",
       "/* Label box, darken color on hover, fitted */\n",
       "#sk-container-id-5 div.sk-label.fitted:hover label.sk-toggleable__label.fitted {\n",
       "  color: var(--sklearn-color-text);\n",
       "  background-color: var(--sklearn-color-fitted-level-2);\n",
       "}\n",
       "\n",
       "/* Estimator label */\n",
       "\n",
       "#sk-container-id-5 div.sk-label label {\n",
       "  font-family: monospace;\n",
       "  font-weight: bold;\n",
       "  display: inline-block;\n",
       "  line-height: 1.2em;\n",
       "}\n",
       "\n",
       "#sk-container-id-5 div.sk-label-container {\n",
       "  text-align: center;\n",
       "}\n",
       "\n",
       "/* Estimator-specific */\n",
       "#sk-container-id-5 div.sk-estimator {\n",
       "  font-family: monospace;\n",
       "  border: 1px dotted var(--sklearn-color-border-box);\n",
       "  border-radius: 0.25em;\n",
       "  box-sizing: border-box;\n",
       "  margin-bottom: 0.5em;\n",
       "  /* unfitted */\n",
       "  background-color: var(--sklearn-color-unfitted-level-0);\n",
       "}\n",
       "\n",
       "#sk-container-id-5 div.sk-estimator.fitted {\n",
       "  /* fitted */\n",
       "  background-color: var(--sklearn-color-fitted-level-0);\n",
       "}\n",
       "\n",
       "/* on hover */\n",
       "#sk-container-id-5 div.sk-estimator:hover {\n",
       "  /* unfitted */\n",
       "  background-color: var(--sklearn-color-unfitted-level-2);\n",
       "}\n",
       "\n",
       "#sk-container-id-5 div.sk-estimator.fitted:hover {\n",
       "  /* fitted */\n",
       "  background-color: var(--sklearn-color-fitted-level-2);\n",
       "}\n",
       "\n",
       "/* Specification for estimator info (e.g. \"i\" and \"?\") */\n",
       "\n",
       "/* Common style for \"i\" and \"?\" */\n",
       "\n",
       ".sk-estimator-doc-link,\n",
       "a:link.sk-estimator-doc-link,\n",
       "a:visited.sk-estimator-doc-link {\n",
       "  float: right;\n",
       "  font-size: smaller;\n",
       "  line-height: 1em;\n",
       "  font-family: monospace;\n",
       "  background-color: var(--sklearn-color-background);\n",
       "  border-radius: 1em;\n",
       "  height: 1em;\n",
       "  width: 1em;\n",
       "  text-decoration: none !important;\n",
       "  margin-left: 1ex;\n",
       "  /* unfitted */\n",
       "  border: var(--sklearn-color-unfitted-level-1) 1pt solid;\n",
       "  color: var(--sklearn-color-unfitted-level-1);\n",
       "}\n",
       "\n",
       ".sk-estimator-doc-link.fitted,\n",
       "a:link.sk-estimator-doc-link.fitted,\n",
       "a:visited.sk-estimator-doc-link.fitted {\n",
       "  /* fitted */\n",
       "  border: var(--sklearn-color-fitted-level-1) 1pt solid;\n",
       "  color: var(--sklearn-color-fitted-level-1);\n",
       "}\n",
       "\n",
       "/* On hover */\n",
       "div.sk-estimator:hover .sk-estimator-doc-link:hover,\n",
       ".sk-estimator-doc-link:hover,\n",
       "div.sk-label-container:hover .sk-estimator-doc-link:hover,\n",
       ".sk-estimator-doc-link:hover {\n",
       "  /* unfitted */\n",
       "  background-color: var(--sklearn-color-unfitted-level-3);\n",
       "  color: var(--sklearn-color-background);\n",
       "  text-decoration: none;\n",
       "}\n",
       "\n",
       "div.sk-estimator.fitted:hover .sk-estimator-doc-link.fitted:hover,\n",
       ".sk-estimator-doc-link.fitted:hover,\n",
       "div.sk-label-container:hover .sk-estimator-doc-link.fitted:hover,\n",
       ".sk-estimator-doc-link.fitted:hover {\n",
       "  /* fitted */\n",
       "  background-color: var(--sklearn-color-fitted-level-3);\n",
       "  color: var(--sklearn-color-background);\n",
       "  text-decoration: none;\n",
       "}\n",
       "\n",
       "/* Span, style for the box shown on hovering the info icon */\n",
       ".sk-estimator-doc-link span {\n",
       "  display: none;\n",
       "  z-index: 9999;\n",
       "  position: relative;\n",
       "  font-weight: normal;\n",
       "  right: .2ex;\n",
       "  padding: .5ex;\n",
       "  margin: .5ex;\n",
       "  width: min-content;\n",
       "  min-width: 20ex;\n",
       "  max-width: 50ex;\n",
       "  color: var(--sklearn-color-text);\n",
       "  box-shadow: 2pt 2pt 4pt #999;\n",
       "  /* unfitted */\n",
       "  background: var(--sklearn-color-unfitted-level-0);\n",
       "  border: .5pt solid var(--sklearn-color-unfitted-level-3);\n",
       "}\n",
       "\n",
       ".sk-estimator-doc-link.fitted span {\n",
       "  /* fitted */\n",
       "  background: var(--sklearn-color-fitted-level-0);\n",
       "  border: var(--sklearn-color-fitted-level-3);\n",
       "}\n",
       "\n",
       ".sk-estimator-doc-link:hover span {\n",
       "  display: block;\n",
       "}\n",
       "\n",
       "/* \"?\"-specific style due to the `<a>` HTML tag */\n",
       "\n",
       "#sk-container-id-5 a.estimator_doc_link {\n",
       "  float: right;\n",
       "  font-size: 1rem;\n",
       "  line-height: 1em;\n",
       "  font-family: monospace;\n",
       "  background-color: var(--sklearn-color-background);\n",
       "  border-radius: 1rem;\n",
       "  height: 1rem;\n",
       "  width: 1rem;\n",
       "  text-decoration: none;\n",
       "  /* unfitted */\n",
       "  color: var(--sklearn-color-unfitted-level-1);\n",
       "  border: var(--sklearn-color-unfitted-level-1) 1pt solid;\n",
       "}\n",
       "\n",
       "#sk-container-id-5 a.estimator_doc_link.fitted {\n",
       "  /* fitted */\n",
       "  border: var(--sklearn-color-fitted-level-1) 1pt solid;\n",
       "  color: var(--sklearn-color-fitted-level-1);\n",
       "}\n",
       "\n",
       "/* On hover */\n",
       "#sk-container-id-5 a.estimator_doc_link:hover {\n",
       "  /* unfitted */\n",
       "  background-color: var(--sklearn-color-unfitted-level-3);\n",
       "  color: var(--sklearn-color-background);\n",
       "  text-decoration: none;\n",
       "}\n",
       "\n",
       "#sk-container-id-5 a.estimator_doc_link.fitted:hover {\n",
       "  /* fitted */\n",
       "  background-color: var(--sklearn-color-fitted-level-3);\n",
       "}\n",
       "</style><div id=\"sk-container-id-5\" class=\"sk-top-container\"><div class=\"sk-text-repr-fallback\"><pre>Pipeline(steps=[(&#x27;scale&#x27;, StandardScaler()),\n",
       "                (&#x27;pca&#x27;, PCA(n_components=50, random_state=420)),\n",
       "                (&#x27;classifier&#x27;, SVC(random_state=420))])</pre><b>In a Jupyter environment, please rerun this cell to show the HTML representation or trust the notebook. <br />On GitHub, the HTML representation is unable to render, please try loading this page with nbviewer.org.</b></div><div class=\"sk-container\" hidden><div class=\"sk-item sk-dashed-wrapped\"><div class=\"sk-label-container\"><div class=\"sk-label fitted sk-toggleable\"><input class=\"sk-toggleable__control sk-hidden--visually\" id=\"sk-estimator-id-17\" type=\"checkbox\" ><label for=\"sk-estimator-id-17\" class=\"sk-toggleable__label fitted sk-toggleable__label-arrow fitted\">&nbsp;&nbsp;Pipeline<a class=\"sk-estimator-doc-link fitted\" rel=\"noreferrer\" target=\"_blank\" href=\"https://scikit-learn.org/1.5/modules/generated/sklearn.pipeline.Pipeline.html\">?<span>Documentation for Pipeline</span></a><span class=\"sk-estimator-doc-link fitted\">i<span>Fitted</span></span></label><div class=\"sk-toggleable__content fitted\"><pre>Pipeline(steps=[(&#x27;scale&#x27;, StandardScaler()),\n",
       "                (&#x27;pca&#x27;, PCA(n_components=50, random_state=420)),\n",
       "                (&#x27;classifier&#x27;, SVC(random_state=420))])</pre></div> </div></div><div class=\"sk-serial\"><div class=\"sk-item\"><div class=\"sk-estimator fitted sk-toggleable\"><input class=\"sk-toggleable__control sk-hidden--visually\" id=\"sk-estimator-id-18\" type=\"checkbox\" ><label for=\"sk-estimator-id-18\" class=\"sk-toggleable__label fitted sk-toggleable__label-arrow fitted\">&nbsp;StandardScaler<a class=\"sk-estimator-doc-link fitted\" rel=\"noreferrer\" target=\"_blank\" href=\"https://scikit-learn.org/1.5/modules/generated/sklearn.preprocessing.StandardScaler.html\">?<span>Documentation for StandardScaler</span></a></label><div class=\"sk-toggleable__content fitted\"><pre>StandardScaler()</pre></div> </div></div><div class=\"sk-item\"><div class=\"sk-estimator fitted sk-toggleable\"><input class=\"sk-toggleable__control sk-hidden--visually\" id=\"sk-estimator-id-19\" type=\"checkbox\" ><label for=\"sk-estimator-id-19\" class=\"sk-toggleable__label fitted sk-toggleable__label-arrow fitted\">&nbsp;PCA<a class=\"sk-estimator-doc-link fitted\" rel=\"noreferrer\" target=\"_blank\" href=\"https://scikit-learn.org/1.5/modules/generated/sklearn.decomposition.PCA.html\">?<span>Documentation for PCA</span></a></label><div class=\"sk-toggleable__content fitted\"><pre>PCA(n_components=50, random_state=420)</pre></div> </div></div><div class=\"sk-item\"><div class=\"sk-estimator fitted sk-toggleable\"><input class=\"sk-toggleable__control sk-hidden--visually\" id=\"sk-estimator-id-20\" type=\"checkbox\" ><label for=\"sk-estimator-id-20\" class=\"sk-toggleable__label fitted sk-toggleable__label-arrow fitted\">&nbsp;SVC<a class=\"sk-estimator-doc-link fitted\" rel=\"noreferrer\" target=\"_blank\" href=\"https://scikit-learn.org/1.5/modules/generated/sklearn.svm.SVC.html\">?<span>Documentation for SVC</span></a></label><div class=\"sk-toggleable__content fitted\"><pre>SVC(random_state=420)</pre></div> </div></div></div></div></div></div>"
      ]
     },
     "execution_count": 28,
     "metadata": {},
     "output_type": "execute_result"
    }
   ],
   "execution_count": 28
  },
  {
   "metadata": {
    "ExecuteTime": {
     "end_time": "2025-02-01T18:18:20.195538Z",
     "start_time": "2025-02-01T18:18:14.592739Z"
    }
   },
   "cell_type": "code",
   "source": [
    "y_pred = svm_pipeline.predict(X_test)\n",
    "print(f'Test score: {cv_score.mean() : .2f} ({cv_score.std() : .2f})')\n",
    "print(classification_report(y_test, y_pred))"
   ],
   "id": "4ce5f4bf39ba930",
   "outputs": [
    {
     "name": "stdout",
     "output_type": "stream",
     "text": [
      "Test score:  0.59 ( 0.01)\n",
      "              precision    recall  f1-score   support\n",
      "\n",
      "           0       0.74      0.24      0.37      1182\n",
      "           1       0.90      0.99      0.94      7849\n",
      "\n",
      "    accuracy                           0.89      9031\n",
      "   macro avg       0.82      0.61      0.65      9031\n",
      "weighted avg       0.88      0.89      0.86      9031\n",
      "\n"
     ]
    }
   ],
   "execution_count": 29
  }
 ],
 "metadata": {
  "kernelspec": {
   "display_name": "Python 3",
   "language": "python",
   "name": "python3"
  },
  "language_info": {
   "codemirror_mode": {
    "name": "ipython",
    "version": 2
   },
   "file_extension": ".py",
   "mimetype": "text/x-python",
   "name": "python",
   "nbconvert_exporter": "python",
   "pygments_lexer": "ipython2",
   "version": "2.7.6"
  }
 },
 "nbformat": 4,
 "nbformat_minor": 5
}
